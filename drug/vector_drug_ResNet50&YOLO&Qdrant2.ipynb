{
  "nbformat": 4,
  "nbformat_minor": 0,
  "metadata": {
    "colab": {
      "provenance": [],
      "collapsed_sections": [
        "fHN98mVooHbg"
      ],
      "authorship_tag": "ABX9TyNN+bXHeaLIBsatZ9aSPoGD",
      "include_colab_link": true
    },
    "kernelspec": {
      "name": "python3",
      "display_name": "Python 3"
    },
    "language_info": {
      "name": "python"
    }
  },
  "cells": [
    {
      "cell_type": "markdown",
      "metadata": {
        "id": "view-in-github",
        "colab_type": "text"
      },
      "source": [
        "<a href=\"https://colab.research.google.com/github/nannthd/project_AIEngineer/blob/main/vector_drug_ResNet50%26YOLO%26Qdrant.ipynb\" target=\"_parent\"><img src=\"https://colab.research.google.com/assets/colab-badge.svg\" alt=\"Open In Colab\"/></a>"
      ]
    },
    {
      "cell_type": "code",
      "source": [
        "from google.colab import drive\n",
        "drive.mount('/content/drive')"
      ],
      "metadata": {
        "colab": {
          "base_uri": "https://localhost:8080/"
        },
        "id": "TFRiVLfDee5a",
        "outputId": "6871efff-af93-4fc3-e3b3-3627adc37e14"
      },
      "execution_count": 1,
      "outputs": [
        {
          "output_type": "stream",
          "name": "stdout",
          "text": [
            "Mounted at /content/drive\n"
          ]
        }
      ]
    },
    {
      "cell_type": "code",
      "source": [
        "!unzip '/content/drive/MyDrive/drug/data 50 class add_augment3.zip'"
      ],
      "metadata": {
        "id": "ssf1smiC_-RN"
      },
      "execution_count": null,
      "outputs": []
    },
    {
      "cell_type": "markdown",
      "source": [
        "##image2vector qdrant"
      ],
      "metadata": {
        "id": "07QDJl-L7zxa"
      }
    },
    {
      "cell_type": "code",
      "source": [
        "!pip install tensorflow"
      ],
      "metadata": {
        "id": "6E7rsTuZ7zBh"
      },
      "execution_count": null,
      "outputs": []
    },
    {
      "cell_type": "code",
      "source": [
        "!pip install qdrant-client"
      ],
      "metadata": {
        "id": "jFa5t6WF9ogQ"
      },
      "execution_count": null,
      "outputs": []
    },
    {
      "cell_type": "code",
      "source": [
        "import os\n",
        "import numpy as np\n",
        "import uuid\n",
        "from tensorflow.keras.applications.resnet50 import ResNet50, preprocess_input\n",
        "from tensorflow.keras.preprocessing import image\n",
        "from PIL import Image\n",
        "from qdrant_client import QdrantClient\n",
        "from qdrant_client.http.models import PointStruct\n",
        "from qdrant_client.http.models import VectorParams, CollectionParams\n",
        "\n",
        "# ใช้โมเดล ResNet50 ของ TensorFlow ในการทำ embedding\n",
        "model = ResNet50(include_top=False, weights='imagenet', pooling='avg')\n",
        "\n",
        "# เชื่อมต่อกับ Qdrant\n",
        "qdrant_client = QdrantClient(\n",
        "    url=\"https://8366dca9-9b40-481c-9a7c-102b62b118c2.europe-west3-0.gcp.cloud.qdrant.io:6333\",\n",
        "    api_key=\"Ft3t6L99uoTsJW8IOk5VH2byKU-BQYqiieuxXFBDp99wo75od0ddAw\",\n",
        ")\n",
        "\n",
        "def create_collection(collection_name, vector_size, distance_metric):\n",
        "    try:\n",
        "        # ตรวจสอบว่าคอลเลกชันมีอยู่แล้วหรือไม่\n",
        "        collections = qdrant_client.get_collections().collections\n",
        "        existing_collections = [col.name for col in collections]\n",
        "\n",
        "        if collection_name in existing_collections:\n",
        "            print(f\"Collection {collection_name} already exists.\")\n",
        "        else:\n",
        "            # สร้างคอลเลกชัน\n",
        "            qdrant_client.create_collection(\n",
        "                collection_name=collection_name,\n",
        "                vectors_config=VectorParams(\n",
        "                    size=vector_size,  # ขนาดของเวกเตอร์ embedding\n",
        "                    distance=distance_metric  # ระยะทางที่ใช้ในการคำนวณ\n",
        "                )\n",
        "            )\n",
        "            print(f\"Collection {collection_name} created successfully.\")\n",
        "    except Exception as e:\n",
        "        print(f\"An error occurred while creating the collection: {e}\")\n",
        "\n",
        "def image_embedding(path):\n",
        "    img = Image.open(path)\n",
        "    img = img.resize((640, 640))  # ปรับขนาดภาพให้เข้ากับ ResNet50\n",
        "    x = image.img_to_array(img)\n",
        "    x = np.expand_dims(x, axis=0)\n",
        "    x = preprocess_input(x)\n",
        "    preds = model.predict(x)\n",
        "    return preds[0]\n",
        "\n",
        "def process_images_in_folder(folder_path, collection_name):\n",
        "    image_files = [f for f in os.listdir(folder_path) if f.endswith(('.png', '.jpg', '.jpeg'))]\n",
        "\n",
        "    for idx, image_file in enumerate(image_files):\n",
        "        image_path = os.path.join(folder_path, image_file)\n",
        "        embedding = image_embedding(image_path)\n",
        "        class_name = os.path.basename(folder_path)  # ใช้ชื่อโฟลเดอร์เป็นคลาส\n",
        "        point_id = str(uuid.uuid4())  # ใช้ UUID เป็น ID\n",
        "        point = PointStruct(id=point_id, vector=embedding.tolist(), payload={\"class\": class_name, \"image_label\": image_file})\n",
        "        try:\n",
        "            qdrant_client.upsert(collection_name=collection_name, points=[point])\n",
        "            print(f\"Uploaded {image_file} to collection {collection_name} with class {class_name}\")\n",
        "        except Exception as e:\n",
        "            print(f\"An error occurred while uploading {image_file}: {e}\")\n",
        "\n",
        "def process_all_folders(base_folder_path):\n",
        "    collection_name = \"vector_drug\"  # ใช้ชื่อคอลเลกชันเดียวสำหรับเก็บข้อมูลทั้งหมด\n",
        "\n",
        "    create_collection(collection_name, vector_size=2048, distance_metric='Cosine')\n",
        "\n",
        "    subfolders = [f.path for f in os.scandir(base_folder_path) if f.is_dir()]\n",
        "\n",
        "    for subfolder in subfolders:\n",
        "        process_images_in_folder(subfolder, collection_name)\n",
        "        print(f\"Embedding data from {os.path.basename(subfolder)} has been uploaded to Qdrant\")\n",
        "\n",
        "# ตัวอย่างการใช้งาน\n",
        "base_folder_path = '/content/data 50 class add_augment'\n",
        "process_all_folders(base_folder_path)"
      ],
      "metadata": {
        "id": "UBIZJsFlZiuf"
      },
      "execution_count": null,
      "outputs": []
    },
    {
      "cell_type": "markdown",
      "source": [
        "##Test using YOLO & ResNet50"
      ],
      "metadata": {
        "id": "fHN98mVooHbg"
      }
    },
    {
      "cell_type": "code",
      "source": [
        "!pip install ultralytics"
      ],
      "metadata": {
        "id": "cGo5rRuIiSLp"
      },
      "execution_count": null,
      "outputs": []
    },
    {
      "cell_type": "code",
      "source": [
        "# Crop All\n",
        "import os\n",
        "from PIL import Image\n",
        "from ultralytics import YOLO\n",
        "\n",
        "# Load your YOLOv8 model\n",
        "model = YOLO('/content/drive/MyDrive/drug/model.pt')\n",
        "\n",
        "# Define the input path (can be a single image or a folder)\n",
        "path = '/content/drive/MyDrive/drug/test'\n",
        "\n",
        "# Define the crop directory\n",
        "crop_dir = '/content//drive/MyDrive/drug/CorpTest'\n",
        "os.makedirs(crop_dir, exist_ok=True)\n",
        "\n",
        "# Function to get image ID from file name\n",
        "def get_image_id(file_name):\n",
        "    return os.path.splitext(os.path.basename(file_name))[0]\n",
        "\n",
        "# Function to perform object detection and cropping\n",
        "def detect_and_crop(image_path, image_id):\n",
        "    # Predict with the YOLO model\n",
        "    results = model(image_path)\n",
        "\n",
        "    # Parse the results\n",
        "    detected = False\n",
        "    for result in results:\n",
        "        # Extract boxes, labels, and scores\n",
        "        boxes = result.boxes.xyxy  # x1, y1, x2, y2\n",
        "        labels = result.boxes.cls  # class ids\n",
        "        scores = result.boxes.conf  # confidence scores\n",
        "\n",
        "        # Convert tensor to numpy for easier processing\n",
        "        boxes = boxes.cpu().detach().numpy()\n",
        "        labels = labels.cpu().detach().numpy()\n",
        "        scores = scores.cpu().detach().numpy()\n",
        "\n",
        "        # Threshold for detection confidence\n",
        "        threshold = 0.3\n",
        "\n",
        "        # List of target labels (Replace with actual indices of your classes in the YOLO model)\n",
        "        target_labels = ['Amlopine_10mg', 'Amlopine_5mg', 'Anapril_5mg', 'Betalol-10-mg', 'Betalol-40-mg',\n",
        "                         'Blopress-16-mg', 'Blopress-8-mg', 'Blopress-Plus-16-mg', 'Blopress-Plus-8-mg',\n",
        "                         'Caduet-10_10-mg', 'Caduet-5_10-mg', 'Daonil-5-mg', 'Diamicron-MR-60-mg',\n",
        "                         'Diovan-160-mg', 'Diovan-80-mg', 'Forxiga-10-mg', 'Galvus-50-mg', 'Galvus_Met_50_1000mg',\n",
        "                         'Gliclazide_80mg', 'Gliparil-2-mg', 'Glucophage-500-mg', 'Glucophage-850-mg',\n",
        "                         'Glucophage-XR-1000-mg', 'Glucophage-XR-750-mg', 'Glyxambi-25_5-mg', 'Janumet-50_1000-mg',\n",
        "                         'Januvia-100-mg', 'Jardiance-10-mg', 'Jardiance-25-mg', 'Jardiance-Duo-12_5_1000-mg',\n",
        "                         'Lanzaar-100-mg', 'Lercadip-20-mg', 'Madiplot-10-mg', 'Madiplot_20mg',\n",
        "                         'Metoprolol_Stada_100mg', 'Micardis_40mg', 'Micardis_Plus_80_12_5mg', 'Minidiab_5mg',\n",
        "                         'Novonorm_1mg', 'Novonorm_2mg', 'Oseni_25_15mg', 'Poli_uretic', 'Prenolol_100mg',\n",
        "                         'Prenolol_25mg', 'Prenolol_50mg', 'Tanzaril_50mg', 'Utmos_15mg', 'Utmos_30mg',\n",
        "                         'Xigduo_XR_10_1000mg', 'Zanidip_10mg']\n",
        "\n",
        "        # Create a map from YOLO class index to target label\n",
        "        class_map = {i: label for i, label in enumerate(target_labels)}\n",
        "\n",
        "        # Check if any of the target labels are detected\n",
        "        for i, label in enumerate(labels):\n",
        "            if class_map[label] in target_labels and scores[i] >= threshold:\n",
        "                score = scores[i]\n",
        "                box = boxes[i]\n",
        "\n",
        "                # Get the coordinates and dimensions of the detected object\n",
        "                x1, y1, x2, y2 = box\n",
        "\n",
        "                # Open the original image\n",
        "                im = Image.open(image_path)\n",
        "\n",
        "                # Crop the image using the detected coordinates\n",
        "                im_crop = im.crop((x1, y1, x2, y2))\n",
        "\n",
        "                # Convert image mode to RGB if it's RGBA\n",
        "                if im_crop.mode == 'RGBA':\n",
        "                    im_crop = im_crop.convert('RGB')\n",
        "\n",
        "                # Save the cropped image with ID\n",
        "                crop_path = os.path.join(crop_dir, f'{image_id}.jpg')\n",
        "                im_crop.save(crop_path)\n",
        "                print(f\"Cropped image saved as '{crop_path}'.\")\n",
        "                detected = True\n",
        "                return image_id  # Return the image ID when successfully cropped\n",
        "\n",
        "    if not detected:\n",
        "        print(f\"Can't detect any target objects in image ID '{image_id}'.\")\n",
        "        return None  # Return None when no objects detected\n",
        "\n",
        "# Check if path is a file or directory\n",
        "if os.path.isfile(path):\n",
        "    image_id = get_image_id(path)\n",
        "    detect_and_crop(path, image_id)\n",
        "elif os.path.isdir(path):\n",
        "    # Loop through all files in the directory\n",
        "    for idx, file_name in enumerate(sorted(os.listdir(path))):\n",
        "        file_path = os.path.join(path, file_name)\n",
        "        if os.path.isfile(file_path):\n",
        "            image_id = f\"image{idx + 1}\"\n",
        "            detect_and_crop(file_path, image_id)\n",
        "else:\n",
        "    print(f\"Invalid path: {path}\")"
      ],
      "metadata": {
        "id": "uzeWUmsKv18a"
      },
      "execution_count": null,
      "outputs": []
    },
    {
      "cell_type": "code",
      "source": [
        "from qdrant_client import QdrantClient\n",
        "from qdrant_client.http import models\n",
        "from tensorflow.keras.applications.resnet50 import ResNet50, preprocess_input\n",
        "from tensorflow.keras.preprocessing import image\n",
        "from PIL import Image\n",
        "import numpy as np\n",
        "import matplotlib.pyplot as plt\n",
        "import os\n",
        "\n",
        "# เชื่อมต่อกับ Qdrant instance บนคลาวด์\n",
        "qdrant_client = QdrantClient(\n",
        "    url=\"https://8366dca9-9b40-481c-9a7c-102b62b118c2.europe-west3-0.gcp.cloud.qdrant.io:6333\",\n",
        "    api_key=\"Ft3t6L99uoTsJW8IOk5VH2byKU-BQYqiieuxXFBDp99wo75od0ddAw\",\n",
        ")\n",
        "\n",
        "# ชื่อ collection\n",
        "collection_name = \"vector_drug\"\n",
        "\n",
        "# โหลดโมเดล ResNet50 ที่ใช้ในการสร้าง embedding\n",
        "model = ResNet50(include_top=False, weights='imagenet', pooling='avg')\n",
        "\n",
        "def image_embedding(image_path):\n",
        "    img = Image.open(image_path).convert('RGB').resize((640, 640))  # ปรับขนาดภาพให้เหมาะสม\n",
        "    x = image.img_to_array(img)\n",
        "    x = np.expand_dims(x, axis=0)\n",
        "    x = preprocess_input(x)\n",
        "    preds = model.predict(x)\n",
        "    return preds[0]  # คืนค่า embedding เป็น numpy array\n",
        "\n",
        "def display_image(image_path):\n",
        "    img = Image.open(image_path)\n",
        "    plt.figure(figsize=(8, 8))\n",
        "    plt.imshow(img)\n",
        "    plt.axis('off')\n",
        "    plt.title(f'Query Image: {os.path.basename(image_path)}')  # แสดงชื่อไฟล์\n",
        "    plt.show()\n",
        "\n",
        "def search_similar_items(query_image_path, client, collection_name):\n",
        "    # สร้าง embedding สำหรับรูปภาพ query\n",
        "    query_embedding = image_embedding(query_image_path)\n",
        "\n",
        "    # แสดงรูปภาพ query พร้อมชื่อไฟล์\n",
        "    display_image(query_image_path)\n",
        "\n",
        "    # ค้นหาคล้ายคลึงใน Qdrant\n",
        "    search_result = client.search(\n",
        "        collection_name=collection_name,\n",
        "        query_vector=query_embedding.tolist(),\n",
        "        limit=100  # ค้นหา 100 ผลลัพธ์เพื่อลดความเป็นไปได้ของการขาดข้อมูล\n",
        "    )\n",
        "\n",
        "    # เก็บคะแนนสูงสุดสำหรับแต่ละ class_name\n",
        "    class_scores = {}\n",
        "    for result in search_result:\n",
        "        point_id = result.id\n",
        "        score = result.score\n",
        "        payload = result.payload\n",
        "        class_name = payload.get(\"class\", \"Unknown\")\n",
        "\n",
        "        # อัปเดตคะแนนสูงสุดสำหรับ class_name นี้\n",
        "        if class_name not in class_scores or score > class_scores[class_name]:\n",
        "            class_scores[class_name] = score\n",
        "\n",
        "    # เลือก 5 ผลลัพธ์ที่มีคะแนนสูงสุด โดยไม่ซ้ำกัน\n",
        "    sorted_class_scores = sorted(class_scores.items(), key=lambda x: x[1], reverse=True)\n",
        "    top_classes = sorted_class_scores[:5]  # เลือก 5 คลาสที่มีคะแนนสูงสุด\n",
        "\n",
        "    # แสดงผลลัพธ์การค้นหา\n",
        "    print(\"Search Results:\")\n",
        "    for class_name, score in top_classes:\n",
        "        print(f\"Class Name: {class_name}, Score: {score}\")\n",
        "\n",
        "def search_images_from_folder(folder_path, client, collection_name):\n",
        "    # ตรวจสอบว่ามีไฟล์ในโฟลเดอร์หรือไม่\n",
        "    if not os.listdir(folder_path):\n",
        "        print(f\"No images found in folder '{folder_path}'\")\n",
        "        return\n",
        "\n",
        "    # ค้นหาและแสดงผลลัพธ์สำหรับแต่ละภาพในโฟลเดอร์\n",
        "    for image_file in os.listdir(folder_path):\n",
        "        if image_file.lower().endswith(('.png', '.jpg', '.jpeg')):\n",
        "            image_path = os.path.join(folder_path, image_file)\n",
        "            print(f\"Searching for image: {image_path}\")\n",
        "            search_similar_items(image_path, client, collection_name)\n",
        "\n",
        "# ตัวอย่างการใช้งาน\n",
        "folder_path = '/content/drive/MyDrive/drug/CorpTest'\n",
        "search_images_from_folder(folder_path, qdrant_client, collection_name)"
      ],
      "metadata": {
        "id": "mCl9FC2BzobN"
      },
      "execution_count": null,
      "outputs": []
    },
    {
      "cell_type": "markdown",
      "source": [
        "ผิดไป 3class"
      ],
      "metadata": {
        "id": "xg57qpaox_Sk"
      }
    }
  ]
}
