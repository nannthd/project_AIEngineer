{
  "nbformat": 4,
  "nbformat_minor": 0,
  "metadata": {
    "colab": {
      "provenance": [],
      "authorship_tag": "ABX9TyM/CkXKX3GsW3vA2KM8hGWy",
      "include_colab_link": true
    },
    "kernelspec": {
      "name": "python3",
      "display_name": "Python 3"
    },
    "language_info": {
      "name": "python"
    }
  },
  "cells": [
    {
      "cell_type": "markdown",
      "metadata": {
        "id": "view-in-github",
        "colab_type": "text"
      },
      "source": [
        "<a href=\"https://colab.research.google.com/github/nannthd/project_AIEngineer/blob/main/license_plate_newmodel.ipynb\" target=\"_parent\"><img src=\"https://colab.research.google.com/assets/colab-badge.svg\" alt=\"Open In Colab\"/></a>"
      ]
    },
    {
      "cell_type": "code",
      "execution_count": 1,
      "metadata": {
        "colab": {
          "base_uri": "https://localhost:8080/"
        },
        "id": "_Ij01tPP-NWj",
        "outputId": "c1a241fd-7364-40e3-cc2c-abd4437385cf"
      },
      "outputs": [
        {
          "output_type": "stream",
          "name": "stdout",
          "text": [
            "/content\n"
          ]
        }
      ],
      "source": [
        "import os\n",
        "HOME = os.getcwd()\n",
        "print(HOME)"
      ]
    },
    {
      "cell_type": "markdown",
      "metadata": {
        "id": "3C3EO_2zNChu"
      },
      "source": [
        "## Install"
      ]
    },
    {
      "cell_type": "code",
      "source": [
        "!pip install ultralytics\n",
        "!pip install easyocr\n",
        "!pip install pytube opencv-python-headless"
      ],
      "metadata": {
        "id": "kiFMTyMwgpSy"
      },
      "execution_count": null,
      "outputs": []
    },
    {
      "cell_type": "code",
      "execution_count": 3,
      "metadata": {
        "id": "VOEYrlBoP9-E"
      },
      "outputs": [],
      "source": [
        "from ultralytics import YOLO\n",
        "from IPython.display import display, Image"
      ]
    },
    {
      "cell_type": "markdown",
      "source": [
        "#Test"
      ],
      "metadata": {
        "id": "8Pmh3ticgcAx"
      }
    },
    {
      "cell_type": "code",
      "source": [
        "from google.colab import drive\n",
        "drive.mount('/content/drive')"
      ],
      "metadata": {
        "colab": {
          "base_uri": "https://localhost:8080/"
        },
        "id": "JwojhBh1hdVk",
        "outputId": "c131d5b3-9347-42e7-aa92-703ed2848170"
      },
      "execution_count": 4,
      "outputs": [
        {
          "output_type": "stream",
          "name": "stdout",
          "text": [
            "Mounted at /content/drive\n"
          ]
        }
      ]
    },
    {
      "cell_type": "code",
      "source": [
        "# Step 1: Install YOLOv8, EasyOCR, and OpenCV\n",
        "# !pip install ultralytics\n",
        "# !pip install easyocr\n",
        "# !pip install opencv-python-headless\n",
        "\n",
        "# Step 2: Import Required Libraries\n",
        "import cv2\n",
        "import torch\n",
        "from ultralytics import YOLO\n",
        "import matplotlib.pyplot as plt\n",
        "import easyocr\n",
        "import numpy as np\n",
        "\n",
        "# Step 3: Load the YOLOv8 Model with Custom Weights\n",
        "model = YOLO('/content/drive/MyDrive/license plate/best_newdata.pt')  # Replace with the path to your weights file\n",
        "\n",
        "# Step 4: Load the Input Video\n",
        "input_video_path = '/content/drive/MyDrive/license plate/test.mp4'  # Replace with the path to your input video\n",
        "cap = cv2.VideoCapture(input_video_path)\n",
        "\n",
        "# Step 5: Initialize EasyOCR Reader for Thai Language\n",
        "reader = easyocr.Reader(['th'])  # Specify 'th' for Thai language\n",
        "\n",
        "# Step 6: Process Each Frame\n",
        "output_video_path = '/content/output_video.mp4'\n",
        "fourcc = cv2.VideoWriter_fourcc(*'mp4v')\n",
        "out = cv2.VideoWriter(output_video_path, fourcc, 20.0, (int(cap.get(3)), int(cap.get(4))))\n",
        "\n",
        "while cap.isOpened():\n",
        "    ret, frame = cap.read()\n",
        "    if not ret:\n",
        "        break\n",
        "\n",
        "    image_rgb = cv2.cvtColor(frame, cv2.COLOR_BGR2RGB)  # Convert BGR to RGB\n",
        "\n",
        "    # Step 7: Perform Inference\n",
        "    results = model.predict(image_rgb)\n",
        "\n",
        "    # Step 8: Process Each Detection\n",
        "    output_frame = image_rgb.copy()\n",
        "\n",
        "    for result in results:\n",
        "        for box in result.boxes:\n",
        "            x1, y1, x2, y2 = map(int, box.xyxy[0])  # Access the bounding box coordinates\n",
        "            class_id = int(box.cls)  # Access the class ID\n",
        "\n",
        "            # Draw bounding box\n",
        "            cv2.rectangle(output_frame, (x1, y1), (x2, y2), (0, 255, 0), 2)\n",
        "\n",
        "    # Convert the output_frame back to BGR for saving\n",
        "    output_frame_bgr = cv2.cvtColor(output_frame, cv2.COLOR_RGB2BGR)\n",
        "    out.write(output_frame_bgr)\n",
        "\n",
        "    # # Optionally, display the frame\n",
        "    # cv2.imshow('Output Video', output_frame_bgr)\n",
        "    # if cv2.waitKey(1) & 0xFF == ord('q'):\n",
        "    #     break\n",
        "\n",
        "# Step 9: Release the video capture and writer objects\n",
        "cap.release()\n",
        "out.release()\n",
        "cv2.destroyAllWindows()"
      ],
      "metadata": {
        "id": "PwBanOmFgXzK"
      },
      "execution_count": null,
      "outputs": []
    },
    {
      "cell_type": "markdown",
      "source": [
        "##Apply Non-Maximum Suppression (NMS)"
      ],
      "metadata": {
        "id": "lOtJkTCOo6zP"
      }
    }
  ]
}