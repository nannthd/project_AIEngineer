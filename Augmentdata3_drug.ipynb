{
  "cells": [
    {
      "cell_type": "markdown",
      "metadata": {
        "id": "view-in-github",
        "colab_type": "text"
      },
      "source": [
        "<a href=\"https://colab.research.google.com/github/nannthd/project_AIEngineer/blob/main/Augmentdata3_drug.ipynb\" target=\"_parent\"><img src=\"https://colab.research.google.com/assets/colab-badge.svg\" alt=\"Open In Colab\"/></a>"
      ]
    },
    {
      "cell_type": "code",
      "execution_count": 1,
      "metadata": {
        "colab": {
          "base_uri": "https://localhost:8080/"
        },
        "id": "6ZZMI5l3djAK",
        "outputId": "9e885a14-fa74-4db2-f02a-b3a7dd918062"
      },
      "outputs": [
        {
          "output_type": "stream",
          "name": "stdout",
          "text": [
            "Mounted at /content/drive\n"
          ]
        }
      ],
      "source": [
        "from google.colab import drive\n",
        "drive.mount('/content/drive')"
      ]
    },
    {
      "cell_type": "markdown",
      "source": [
        "#Rotation"
      ],
      "metadata": {
        "id": "oliK4QI8CNW5"
      }
    },
    {
      "cell_type": "markdown",
      "source": [
        "##Rotation 45 องศา"
      ],
      "metadata": {
        "id": "BgKqvXouqMJ9"
      }
    },
    {
      "cell_type": "code",
      "source": [
        "import cv2\n",
        "import numpy as np\n",
        "import os\n",
        "import glob\n",
        "\n",
        "# ฟังก์ชันหมุนภาพ 45 องศาและเปลี่ยนพื้นหลังเป็นสีขาว\n",
        "def rotate_image(image, angle):\n",
        "    # ขนาดของภาพเริ่มต้น\n",
        "    (h, w) = image.shape[:2]\n",
        "    # จุดศูนย์กลางของภาพ\n",
        "    center = (w // 2, h // 2)\n",
        "    # สร้างเมทริกซ์การหมุน\n",
        "    M = cv2.getRotationMatrix2D(center, angle, 1.0)\n",
        "    # หาความสูงและความกว้างของภาพหลังจากหมุน\n",
        "    cos = abs(M[0, 0])\n",
        "    sin = abs(M[0, 1])\n",
        "    new_w = int((h * sin) + (w * cos))\n",
        "    new_h = int((h * cos) + (w * sin))\n",
        "    # ปรับขนาดของเมทริกซ์การหมุน\n",
        "    M[0, 2] += (new_w / 2) - center[0]\n",
        "    M[1, 2] += (new_h / 2) - center[1]\n",
        "    # หมุนภาพ\n",
        "    rotated_image = cv2.warpAffine(image, M, (new_w, new_h), borderMode=cv2.BORDER_REPLICATE)\n",
        "    return rotated_image\n",
        "\n",
        "# เส้นทางของโฟลเดอร์ที่ต้องการหมุนภาพทั้งหมด\n",
        "folder_path = '/content/drive/MyDrive/drug/cropimage'\n",
        "output_folder_path = '/content/drive/MyDrive/drug/cropimage/Rotations'\n",
        "\n",
        "# สร้างโฟลเดอร์สำหรับเซฟรูปภาพที่หมุนแล้ว ถ้ายังไม่มี\n",
        "if not os.path.exists(output_folder_path):\n",
        "    os.makedirs(output_folder_path)\n",
        "\n",
        "# ค้นหารูปภาพทั้งหมดในโฟลเดอร์\n",
        "image_paths = glob.glob(os.path.join(folder_path, '*.jpg'))\n",
        "\n",
        "# หมุนภาพและเซฟรูปภาพทั้งหมด\n",
        "for image_path in image_paths:\n",
        "    # อ่านรูปภาพ\n",
        "    image = cv2.imread(image_path)\n",
        "\n",
        "    # หมุนภาพ 45 องศาทางตรงข้ามเข็มนาฬิกา (negative angle)\n",
        "    rotated_image = rotate_image(image, -45)\n",
        "\n",
        "    # ชื่อไฟล์เดิมโดยไม่รวมนามสกุล\n",
        "    base_name, file_ext = os.path.splitext(os.path.basename(image_path))\n",
        "\n",
        "    # เพิ่มคำว่า \"_rotated45\" และนามสกุลไฟล์\n",
        "    rotated_image_path = os.path.join(output_folder_path, f'{base_name}_rotated45{file_ext}')\n",
        "\n",
        "    # เซฟรูปภาพที่หมุนแล้ว\n",
        "    cv2.imwrite(rotated_image_path, rotated_image)\n",
        "    print(f'Rotated image saved to {rotated_image_path}')"
      ],
      "metadata": {
        "id": "KnsmqPSML2G3"
      },
      "execution_count": null,
      "outputs": []
    },
    {
      "cell_type": "markdown",
      "source": [
        "##Rotation 90 องศา"
      ],
      "metadata": {
        "id": "djoC6fnuqp1O"
      }
    },
    {
      "cell_type": "code",
      "source": [
        "import cv2\n",
        "import numpy as np\n",
        "import os\n",
        "import glob\n",
        "\n",
        "# ฟังก์ชันหมุนภาพ 90 องศาและเปลี่ยนพื้นหลังเป็นสีขาว\n",
        "def rotate_image(image, angle):\n",
        "    # ขนาดของภาพเริ่มต้น\n",
        "    (h, w) = image.shape[:2]\n",
        "    # จุดศูนย์กลางของภาพ\n",
        "    center = (w // 2, h // 2)\n",
        "    # สร้างเมทริกซ์การหมุน\n",
        "    M = cv2.getRotationMatrix2D(center, angle, 1.0)\n",
        "    # หาความสูงและความกว้างของภาพหลังจากหมุน\n",
        "    cos = abs(M[0, 0])\n",
        "    sin = abs(M[0, 1])\n",
        "    new_w = int((h * sin) + (w * cos))\n",
        "    new_h = int((h * cos) + (w * sin))\n",
        "    # ปรับขนาดของเมทริกซ์การหมุน\n",
        "    M[0, 2] += (new_w / 2) - center[0]\n",
        "    M[1, 2] += (new_h / 2) - center[1]\n",
        "    # หมุนภาพ\n",
        "    rotated_image = cv2.warpAffine(image, M, (new_w, new_h), borderMode=cv2.BORDER_REPLICATE)\n",
        "    return rotated_image\n",
        "\n",
        "# เส้นทางของโฟลเดอร์ที่ต้องการหมุนภาพทั้งหมด\n",
        "folder_path = '/content/drive/MyDrive/drug/cropimage'\n",
        "output_folder_path = '/content/drive/MyDrive/drug/cropimage/Rotations'\n",
        "\n",
        "# สร้างโฟลเดอร์สำหรับเซฟรูปภาพที่หมุนแล้ว ถ้ายังไม่มี\n",
        "if not os.path.exists(output_folder_path):\n",
        "    os.makedirs(output_folder_path)\n",
        "\n",
        "# ค้นหารูปภาพทั้งหมดในโฟลเดอร์\n",
        "image_paths = glob.glob(os.path.join(folder_path, '*.jpg'))\n",
        "\n",
        "# หมุนภาพและเซฟรูปภาพทั้งหมด\n",
        "for image_path in image_paths:\n",
        "    # อ่านรูปภาพ\n",
        "    image = cv2.imread(image_path)\n",
        "\n",
        "    # หมุนภาพ 90 องศาทางตรงข้ามเข็มนาฬิกา (negative angle)\n",
        "    rotated_image = rotate_image(image, -90)\n",
        "\n",
        "    # ชื่อไฟล์เดิมโดยไม่รวมนามสกุล\n",
        "    base_name, file_ext = os.path.splitext(os.path.basename(image_path))\n",
        "\n",
        "    # เพิ่มคำว่า \"_rotated45\" และนามสกุลไฟล์\n",
        "    rotated_image_path = os.path.join(output_folder_path, f'{base_name}_rotated90{file_ext}')\n",
        "\n",
        "    # เซฟรูปภาพที่หมุนแล้ว\n",
        "    cv2.imwrite(rotated_image_path, rotated_image)\n",
        "    print(f'Rotated image saved to {rotated_image_path}')"
      ],
      "metadata": {
        "id": "uxrUb3yotf_P"
      },
      "execution_count": null,
      "outputs": []
    },
    {
      "cell_type": "markdown",
      "source": [
        "##Rotation 135 องศา"
      ],
      "metadata": {
        "id": "sLScXt0Sv8OP"
      }
    },
    {
      "cell_type": "code",
      "source": [
        "import cv2\n",
        "import numpy as np\n",
        "import os\n",
        "import glob\n",
        "\n",
        "# ฟังก์ชันหมุนภาพ 135 องศาและเปลี่ยนพื้นหลังเป็นสีขาว\n",
        "def rotate_image(image, angle):\n",
        "    # ขนาดของภาพเริ่มต้น\n",
        "    (h, w) = image.shape[:2]\n",
        "    # จุดศูนย์กลางของภาพ\n",
        "    center = (w // 2, h // 2)\n",
        "    # สร้างเมทริกซ์การหมุน\n",
        "    M = cv2.getRotationMatrix2D(center, angle, 1.0)\n",
        "    # หาความสูงและความกว้างของภาพหลังจากหมุน\n",
        "    cos = abs(M[0, 0])\n",
        "    sin = abs(M[0, 1])\n",
        "    new_w = int((h * sin) + (w * cos))\n",
        "    new_h = int((h * cos) + (w * sin))\n",
        "    # ปรับขนาดของเมทริกซ์การหมุน\n",
        "    M[0, 2] += (new_w / 2) - center[0]\n",
        "    M[1, 2] += (new_h / 2) - center[1]\n",
        "    # หมุนภาพ\n",
        "    rotated_image = cv2.warpAffine(image, M, (new_w, new_h), borderMode=cv2.BORDER_REPLICATE)\n",
        "    return rotated_image\n",
        "\n",
        "# เส้นทางของโฟลเดอร์ที่ต้องการหมุนภาพทั้งหมด\n",
        "folder_path = '/content/drive/MyDrive/drug/cropimage'\n",
        "output_folder_path = '/content/drive/MyDrive/drug/cropimage/Rotations'\n",
        "\n",
        "# สร้างโฟลเดอร์สำหรับเซฟรูปภาพที่หมุนแล้ว ถ้ายังไม่มี\n",
        "if not os.path.exists(output_folder_path):\n",
        "    os.makedirs(output_folder_path)\n",
        "\n",
        "# ค้นหารูปภาพทั้งหมดในโฟลเดอร์\n",
        "image_paths = glob.glob(os.path.join(folder_path, '*.jpg'))\n",
        "\n",
        "# หมุนภาพและเซฟรูปภาพทั้งหมด\n",
        "for image_path in image_paths:\n",
        "    # อ่านรูปภาพ\n",
        "    image = cv2.imread(image_path)\n",
        "\n",
        "    # หมุนภาพ 135 องศาทางตรงข้ามเข็มนาฬิกา (negative angle)\n",
        "    rotated_image = rotate_image(image, -135)\n",
        "\n",
        "    # ชื่อไฟล์เดิมโดยไม่รวมนามสกุล\n",
        "    base_name, file_ext = os.path.splitext(os.path.basename(image_path))\n",
        "\n",
        "    # เพิ่มคำว่า \"_rotated45\" และนามสกุลไฟล์\n",
        "    rotated_image_path = os.path.join(output_folder_path, f'{base_name}_rotated135{file_ext}')\n",
        "\n",
        "    # เซฟรูปภาพที่หมุนแล้ว\n",
        "    cv2.imwrite(rotated_image_path, rotated_image)\n",
        "    print(f'Rotated image saved to {rotated_image_path}')"
      ],
      "metadata": {
        "id": "JPSI6ko6v_hR"
      },
      "execution_count": null,
      "outputs": []
    },
    {
      "cell_type": "markdown",
      "source": [
        "##Rotation 180 องศา"
      ],
      "metadata": {
        "id": "PdN4pqkVgmhc"
      }
    },
    {
      "cell_type": "code",
      "source": [
        "import cv2\n",
        "import numpy as np\n",
        "import os\n",
        "import glob\n",
        "\n",
        "# ฟังก์ชันหมุนภาพ 180 องศาและเปลี่ยนพื้นหลังเป็นสีขาว\n",
        "def rotate_image(image, angle):\n",
        "    # ขนาดของภาพเริ่มต้น\n",
        "    (h, w) = image.shape[:2]\n",
        "    # จุดศูนย์กลางของภาพ\n",
        "    center = (w // 2, h // 2)\n",
        "    # สร้างเมทริกซ์การหมุน\n",
        "    M = cv2.getRotationMatrix2D(center, angle, 1.0)\n",
        "    # หาความสูงและความกว้างของภาพหลังจากหมุน\n",
        "    cos = abs(M[0, 0])\n",
        "    sin = abs(M[0, 1])\n",
        "    new_w = int((h * sin) + (w * cos))\n",
        "    new_h = int((h * cos) + (w * sin))\n",
        "    # ปรับขนาดของเมทริกซ์การหมุน\n",
        "    M[0, 2] += (new_w / 2) - center[0]\n",
        "    M[1, 2] += (new_h / 2) - center[1]\n",
        "    # หมุนภาพ\n",
        "    rotated_image = cv2.warpAffine(image, M, (new_w, new_h), borderMode=cv2.BORDER_REPLICATE)\n",
        "    return rotated_image\n",
        "\n",
        "# เส้นทางของโฟลเดอร์ที่ต้องการหมุนภาพทั้งหมด\n",
        "folder_path = '/content/drive/MyDrive/drug/cropimage'\n",
        "output_folder_path = '/content/drive/MyDrive/drug/cropimage/Rotations'\n",
        "\n",
        "# สร้างโฟลเดอร์สำหรับเซฟรูปภาพที่หมุนแล้ว ถ้ายังไม่มี\n",
        "if not os.path.exists(output_folder_path):\n",
        "    os.makedirs(output_folder_path)\n",
        "\n",
        "# ค้นหารูปภาพทั้งหมดในโฟลเดอร์\n",
        "image_paths = glob.glob(os.path.join(folder_path, '*.jpg'))\n",
        "\n",
        "# หมุนภาพและเซฟรูปภาพทั้งหมด\n",
        "for image_path in image_paths:\n",
        "    # อ่านรูปภาพ\n",
        "    image = cv2.imread(image_path)\n",
        "\n",
        "    # หมุนภาพ 180 องศาทางตรงข้ามเข็มนาฬิกา (negative angle)\n",
        "    rotated_image = rotate_image(image, -180)\n",
        "\n",
        "    # ชื่อไฟล์เดิมโดยไม่รวมนามสกุล\n",
        "    base_name, file_ext = os.path.splitext(os.path.basename(image_path))\n",
        "\n",
        "    # เพิ่มคำว่า \"_rotated180\" และนามสกุลไฟล์\n",
        "    rotated_image_path = os.path.join(output_folder_path, f'{base_name}_rotated180{file_ext}')\n",
        "\n",
        "    # เซฟรูปภาพที่หมุนแล้ว\n",
        "    cv2.imwrite(rotated_image_path, rotated_image)\n",
        "    print(f'Rotated image saved to {rotated_image_path}')"
      ],
      "metadata": {
        "id": "2Fwe_oFsglgE"
      },
      "execution_count": null,
      "outputs": []
    },
    {
      "cell_type": "markdown",
      "source": [
        "##Rotation 225 องศา"
      ],
      "metadata": {
        "id": "BsXcklZ5wRm1"
      }
    },
    {
      "cell_type": "code",
      "source": [
        "import cv2\n",
        "import numpy as np\n",
        "import os\n",
        "import glob\n",
        "\n",
        "# ฟังก์ชันหมุนภาพ 225 องศาและเปลี่ยนพื้นหลังเป็นสีขาว\n",
        "def rotate_image(image, angle):\n",
        "    # ขนาดของภาพเริ่มต้น\n",
        "    (h, w) = image.shape[:2]\n",
        "    # จุดศูนย์กลางของภาพ\n",
        "    center = (w // 2, h // 2)\n",
        "    # สร้างเมทริกซ์การหมุน\n",
        "    M = cv2.getRotationMatrix2D(center, angle, 1.0)\n",
        "    # หาความสูงและความกว้างของภาพหลังจากหมุน\n",
        "    cos = abs(M[0, 0])\n",
        "    sin = abs(M[0, 1])\n",
        "    new_w = int((h * sin) + (w * cos))\n",
        "    new_h = int((h * cos) + (w * sin))\n",
        "    # ปรับขนาดของเมทริกซ์การหมุน\n",
        "    M[0, 2] += (new_w / 2) - center[0]\n",
        "    M[1, 2] += (new_h / 2) - center[1]\n",
        "    # หมุนภาพ\n",
        "    rotated_image = cv2.warpAffine(image, M, (new_w, new_h), borderMode=cv2.BORDER_REPLICATE)\n",
        "    return rotated_image\n",
        "\n",
        "# เส้นทางของโฟลเดอร์ที่ต้องการหมุนภาพทั้งหมด\n",
        "folder_path = '/content/drive/MyDrive/drug/cropimage'\n",
        "output_folder_path = '/content/drive/MyDrive/drug/cropimage/Rotations'\n",
        "\n",
        "# สร้างโฟลเดอร์สำหรับเซฟรูปภาพที่หมุนแล้ว ถ้ายังไม่มี\n",
        "if not os.path.exists(output_folder_path):\n",
        "    os.makedirs(output_folder_path)\n",
        "\n",
        "# ค้นหารูปภาพทั้งหมดในโฟลเดอร์\n",
        "image_paths = glob.glob(os.path.join(folder_path, '*.jpg'))\n",
        "\n",
        "# หมุนภาพและเซฟรูปภาพทั้งหมด\n",
        "for image_path in image_paths:\n",
        "    # อ่านรูปภาพ\n",
        "    image = cv2.imread(image_path)\n",
        "\n",
        "    # หมุนภาพ 225 องศาทางตรงข้ามเข็มนาฬิกา (negative angle)\n",
        "    rotated_image = rotate_image(image, -225)\n",
        "\n",
        "    # ชื่อไฟล์เดิมโดยไม่รวมนามสกุล\n",
        "    base_name, file_ext = os.path.splitext(os.path.basename(image_path))\n",
        "\n",
        "    # เพิ่มคำว่า \"_rotated225\" และนามสกุลไฟล์\n",
        "    rotated_image_path = os.path.join(output_folder_path, f'{base_name}_rotated225{file_ext}')\n",
        "\n",
        "    # เซฟรูปภาพที่หมุนแล้ว\n",
        "    cv2.imwrite(rotated_image_path, rotated_image)\n",
        "    print(f'Rotated image saved to {rotated_image_path}')"
      ],
      "metadata": {
        "id": "hIFWIX8MwU-x"
      },
      "execution_count": null,
      "outputs": []
    },
    {
      "cell_type": "markdown",
      "source": [
        "##Rotation 270 องศา"
      ],
      "metadata": {
        "id": "o3e_GxyGwlGh"
      }
    },
    {
      "cell_type": "code",
      "source": [
        "import cv2\n",
        "import numpy as np\n",
        "import os\n",
        "import glob\n",
        "\n",
        "# ฟังก์ชันหมุนภาพ 270 องศาและเปลี่ยนพื้นหลังเป็นสีขาว\n",
        "def rotate_image(image, angle):\n",
        "    # ขนาดของภาพเริ่มต้น\n",
        "    (h, w) = image.shape[:2]\n",
        "    # จุดศูนย์กลางของภาพ\n",
        "    center = (w // 2, h // 2)\n",
        "    # สร้างเมทริกซ์การหมุน\n",
        "    M = cv2.getRotationMatrix2D(center, angle, 1.0)\n",
        "    # หาความสูงและความกว้างของภาพหลังจากหมุน\n",
        "    cos = abs(M[0, 0])\n",
        "    sin = abs(M[0, 1])\n",
        "    new_w = int((h * sin) + (w * cos))\n",
        "    new_h = int((h * cos) + (w * sin))\n",
        "    # ปรับขนาดของเมทริกซ์การหมุน\n",
        "    M[0, 2] += (new_w / 2) - center[0]\n",
        "    M[1, 2] += (new_h / 2) - center[1]\n",
        "    # หมุนภาพ\n",
        "    rotated_image = cv2.warpAffine(image, M, (new_w, new_h), borderMode=cv2.BORDER_REPLICATE)\n",
        "    return rotated_image\n",
        "\n",
        "# เส้นทางของโฟลเดอร์ที่ต้องการหมุนภาพทั้งหมด\n",
        "folder_path = '/content/drive/MyDrive/drug/cropimage'\n",
        "output_folder_path = '/content/drive/MyDrive/drug/cropimage/Rotations'\n",
        "\n",
        "# สร้างโฟลเดอร์สำหรับเซฟรูปภาพที่หมุนแล้ว ถ้ายังไม่มี\n",
        "if not os.path.exists(output_folder_path):\n",
        "    os.makedirs(output_folder_path)\n",
        "\n",
        "# ค้นหารูปภาพทั้งหมดในโฟลเดอร์\n",
        "image_paths = glob.glob(os.path.join(folder_path, '*.jpg'))\n",
        "\n",
        "# หมุนภาพและเซฟรูปภาพทั้งหมด\n",
        "for image_path in image_paths:\n",
        "    # อ่านรูปภาพ\n",
        "    image = cv2.imread(image_path)\n",
        "\n",
        "    # หมุนภาพ 270 องศาทางตรงข้ามเข็มนาฬิกา (negative angle)\n",
        "    rotated_image = rotate_image(image, -270)\n",
        "\n",
        "    # ชื่อไฟล์เดิมโดยไม่รวมนามสกุล\n",
        "    base_name, file_ext = os.path.splitext(os.path.basename(image_path))\n",
        "\n",
        "    # เพิ่มคำว่า \"_rotated270\" และนามสกุลไฟล์\n",
        "    rotated_image_path = os.path.join(output_folder_path, f'{base_name}_rotated270{file_ext}')\n",
        "\n",
        "    # เซฟรูปภาพที่หมุนแล้ว\n",
        "    cv2.imwrite(rotated_image_path, rotated_image)\n",
        "    print(f'Rotated image saved to {rotated_image_path}')"
      ],
      "metadata": {
        "id": "GtKmG-wSworr"
      },
      "execution_count": null,
      "outputs": []
    },
    {
      "cell_type": "markdown",
      "source": [
        "##Rotation 315 องศา"
      ],
      "metadata": {
        "id": "I5H_GaH4-rHU"
      }
    },
    {
      "cell_type": "code",
      "source": [
        "import cv2\n",
        "import numpy as np\n",
        "import os\n",
        "import glob\n",
        "\n",
        "# ฟังก์ชันหมุนภาพ 315 องศาและเปลี่ยนพื้นหลังเป็นสีขาว\n",
        "def rotate_image(image, angle):\n",
        "    # ขนาดของภาพเริ่มต้น\n",
        "    (h, w) = image.shape[:2]\n",
        "    # จุดศูนย์กลางของภาพ\n",
        "    center = (w // 2, h // 2)\n",
        "    # สร้างเมทริกซ์การหมุน\n",
        "    M = cv2.getRotationMatrix2D(center, angle, 1.0)\n",
        "    # หาความสูงและความกว้างของภาพหลังจากหมุน\n",
        "    cos = abs(M[0, 0])\n",
        "    sin = abs(M[0, 1])\n",
        "    new_w = int((h * sin) + (w * cos))\n",
        "    new_h = int((h * cos) + (w * sin))\n",
        "    # ปรับขนาดของเมทริกซ์การหมุน\n",
        "    M[0, 2] += (new_w / 2) - center[0]\n",
        "    M[1, 2] += (new_h / 2) - center[1]\n",
        "    # หมุนภาพ\n",
        "    rotated_image = cv2.warpAffine(image, M, (new_w, new_h), borderMode=cv2.BORDER_REPLICATE)\n",
        "    return rotated_image\n",
        "\n",
        "# เส้นทางของโฟลเดอร์ที่ต้องการหมุนภาพทั้งหมด\n",
        "folder_path = '/content/drive/MyDrive/drug/cropimage'\n",
        "output_folder_path = '/content/drive/MyDrive/drug/cropimage/Rotations'\n",
        "\n",
        "# สร้างโฟลเดอร์สำหรับเซฟรูปภาพที่หมุนแล้ว ถ้ายังไม่มี\n",
        "if not os.path.exists(output_folder_path):\n",
        "    os.makedirs(output_folder_path)\n",
        "\n",
        "# ค้นหารูปภาพทั้งหมดในโฟลเดอร์\n",
        "image_paths = glob.glob(os.path.join(folder_path, '*.jpg'))\n",
        "\n",
        "# หมุนภาพและเซฟรูปภาพทั้งหมด\n",
        "for image_path in image_paths:\n",
        "    # อ่านรูปภาพ\n",
        "    image = cv2.imread(image_path)\n",
        "\n",
        "    # หมุนภาพ 315 องศาทางตรงข้ามเข็มนาฬิกา (negative angle)\n",
        "    rotated_image = rotate_image(image, -315)\n",
        "\n",
        "    # ชื่อไฟล์เดิมโดยไม่รวมนามสกุล\n",
        "    base_name, file_ext = os.path.splitext(os.path.basename(image_path))\n",
        "\n",
        "    # เพิ่มคำว่า \"_rotated315\" และนามสกุลไฟล์\n",
        "    rotated_image_path = os.path.join(output_folder_path, f'{base_name}_rotated315{file_ext}')\n",
        "\n",
        "    # เซฟรูปภาพที่หมุนแล้ว\n",
        "    cv2.imwrite(rotated_image_path, rotated_image)\n",
        "    print(f'Rotated image saved to {rotated_image_path}')"
      ],
      "metadata": {
        "id": "kt2gFwr5-uJQ"
      },
      "execution_count": null,
      "outputs": []
    },
    {
      "cell_type": "markdown",
      "source": [
        "# เพิ่มความสว่าง"
      ],
      "metadata": {
        "id": "4gJNUrXdhFKd"
      }
    },
    {
      "cell_type": "code",
      "execution_count": null,
      "metadata": {
        "id": "VtMTED8Rd_YT",
        "collapsed": true
      },
      "outputs": [],
      "source": [
        "import cv2\n",
        "import os\n",
        "from google.colab.patches import cv2_imshow\n",
        "import glob\n",
        "\n",
        "def increase_brightness(image, value=50):\n",
        "    # แปลงรูปภาพจาก BGR เป็น HSV\n",
        "    hsv = cv2.cvtColor(image, cv2.COLOR_BGR2HSV)\n",
        "\n",
        "    # แยกช่องสี\n",
        "    h, s, v = cv2.split(hsv)\n",
        "\n",
        "    # เพิ่มค่า brightness ในช่อง V (Value)\n",
        "    v = cv2.add(v, value)\n",
        "\n",
        "    # รวมช่องสีกลับเข้าด้วยกัน\n",
        "    final_hsv = cv2.merge((h, s, v))\n",
        "\n",
        "    # แปลงกลับจาก HSV เป็น BGR\n",
        "    bright_image = cv2.cvtColor(final_hsv, cv2.COLOR_HSV2BGR)\n",
        "\n",
        "    return bright_image\n",
        "\n",
        "# เส้นทางของโฟลเดอร์ที่ต้องการเพิ่มความสว่างให้กับรูปภาพทั้งหมด\n",
        "folder_path = '/content/drive/MyDrive/drug/cropimage/Rotations'\n",
        "output_folder_path = '/content/drive/MyDrive/drug/cropimage/bright'\n",
        "\n",
        "# สร้างโฟลเดอร์สำหรับเซฟรูปภาพที่เพิ่มความสว่างแล้ว ถ้ายังไม่มี\n",
        "if not os.path.exists(output_folder_path):\n",
        "    os.makedirs(output_folder_path)\n",
        "\n",
        "# ค้นหารูปภาพทั้งหมดในโฟลเดอร์\n",
        "image_paths = glob.glob(os.path.join(folder_path, '*.jpg'))\n",
        "\n",
        "# เพิ่มความสว่างและเซฟรูปภาพทั้งหมด\n",
        "for image_path in image_paths:\n",
        "    # อ่านรูปภาพ\n",
        "    image = cv2.imread(image_path)\n",
        "\n",
        "    # เพิ่มความสว่างของรูปภาพ\n",
        "    bright_image = increase_brightness(image, value=50)\n",
        "\n",
        "    # ชื่อไฟล์เดิมโดยไม่รวมนามสกุล\n",
        "    base_name, file_ext = os.path.splitext(os.path.basename(image_path))\n",
        "\n",
        "    # เพิ่มคำว่า \"_rotated135\" และนามสกุลไฟล์\n",
        "    bright_image_path = os.path.join(output_folder_path, f'{base_name}_bright_w{file_ext}')\n",
        "\n",
        "    # เซฟรูปภาพที่หมุนแล้ว\n",
        "    cv2.imwrite(bright_image_path, bright_image)\n",
        "    print(f'bright image saved to {bright_image_path}')"
      ]
    },
    {
      "cell_type": "markdown",
      "source": [
        "# ลดความสว่าง"
      ],
      "metadata": {
        "id": "ZTk9jBcSiBet"
      }
    },
    {
      "cell_type": "code",
      "source": [
        "import cv2\n",
        "import os\n",
        "from google.colab.patches import cv2_imshow\n",
        "import glob\n",
        "\n",
        "def decrease_brightness(image, value=50):\n",
        "    # แปลงรูปภาพจาก BGR เป็น HSV\n",
        "    hsv = cv2.cvtColor(image, cv2.COLOR_BGR2HSV)\n",
        "\n",
        "    # แยกช่องสี\n",
        "    h, s, v = cv2.split(hsv)\n",
        "\n",
        "    # ลดค่า brightness ในช่อง V (Value)\n",
        "    v = cv2.subtract(v, value)\n",
        "\n",
        "    # รวมช่องสีกลับเข้าด้วยกัน\n",
        "    final_hsv = cv2.merge((h, s, v))\n",
        "\n",
        "    # แปลงกลับจาก HSV เป็น BGR\n",
        "    dark_image = cv2.cvtColor(final_hsv, cv2.COLOR_HSV2BGR)\n",
        "\n",
        "    return dark_image\n",
        "\n",
        "# เส้นทางของโฟลเดอร์ที่ต้องการลดความสว่างให้กับรูปภาพทั้งหมด\n",
        "folder_path = '/content/drive/MyDrive/drug/cropimage/Rotations'\n",
        "output_folder_path = '/content/drive/MyDrive/drug/cropimage/dark'\n",
        "\n",
        "# สร้างโฟลเดอร์สำหรับเซฟรูปภาพที่ลดความสว่างแล้ว ถ้ายังไม่มี\n",
        "if not os.path.exists(output_folder_path):\n",
        "    os.makedirs(output_folder_path)\n",
        "\n",
        "# ค้นหารูปภาพทั้งหมดในโฟลเดอร์\n",
        "image_paths = glob.glob(os.path.join(folder_path, '*.jpg'))\n",
        "\n",
        "# ลดความสว่างและเซฟรูปภาพทั้งหมด\n",
        "for image_path in image_paths:\n",
        "    # อ่านรูปภาพ\n",
        "    image = cv2.imread(image_path)\n",
        "\n",
        "    # ลดความสว่างของรูปภาพ\n",
        "    dark_image = decrease_brightness(image, value=50)\n",
        "\n",
        "    # ชื่อไฟล์เดิมโดยไม่รวมนามสกุล\n",
        "    base_name, file_ext = os.path.splitext(os.path.basename(image_path))\n",
        "\n",
        "    # เพิ่มคำว่า \"_dark\" และนามสกุลไฟล์\n",
        "    dark_image_path = os.path.join(output_folder_path, f'{base_name}_dark_w{file_ext}')\n",
        "\n",
        "    # เซฟรูปภาพที่หมุนแล้ว\n",
        "    cv2.imwrite(dark_image_path, dark_image)\n",
        "    print(f'dark image saved to {dark_image_path}')"
      ],
      "metadata": {
        "collapsed": true,
        "id": "kBqO6qYOh_YA"
      },
      "execution_count": null,
      "outputs": []
    },
    {
      "cell_type": "markdown",
      "source": [
        "# blur"
      ],
      "metadata": {
        "id": "NGFmejiFlTB2"
      }
    },
    {
      "cell_type": "markdown",
      "source": [
        "##blurสว่าง"
      ],
      "metadata": {
        "id": "SEAlqsec4p6X"
      }
    },
    {
      "cell_type": "code",
      "source": [
        "import cv2\n",
        "import os\n",
        "import glob\n",
        "from google.colab.patches import cv2_imshow\n",
        "\n",
        "def blur_image(image, ksize=(15, 15)):\n",
        "    # เบลอภาพด้วย Gaussian Blur\n",
        "    blurred_image = cv2.GaussianBlur(image, ksize, 0)\n",
        "    return blurred_image\n",
        "\n",
        "# เส้นทางของโฟลเดอร์ที่ต้องการเบลอภาพทั้งหมด\n",
        "folder_path = '/content/drive/MyDrive/drug/cropimage/bright'\n",
        "output_folder_path = '/content/drive/MyDrive/drug/cropimage/blurred'\n",
        "\n",
        "# สร้างโฟลเดอร์สำหรับเซฟรูปภาพที่เบลอแล้ว ถ้ายังไม่มี\n",
        "if not os.path.exists(output_folder_path):\n",
        "    os.makedirs(output_folder_path)\n",
        "\n",
        "# ค้นหารูปภาพทั้งหมดในโฟลเดอร์\n",
        "image_paths = glob.glob(os.path.join(folder_path, '*.jpg'))\n",
        "\n",
        "# เบลอภาพและเซฟรูปภาพทั้งหมด\n",
        "for image_path in image_paths:\n",
        "    # อ่านรูปภาพ\n",
        "    image = cv2.imread(image_path)\n",
        "\n",
        "    # เบลอภาพ\n",
        "    blurred_image = blur_image(image)\n",
        "\n",
        "   # ชื่อไฟล์เดิมโดยไม่รวมนามสกุล\n",
        "    base_name, file_ext = os.path.splitext(os.path.basename(image_path))\n",
        "\n",
        "    # เพิ่มคำว่า \"_blurred\" และนามสกุลไฟล์\n",
        "    blurred_image_path = os.path.join(output_folder_path, f'{base_name}_blurred_w{file_ext}')\n",
        "\n",
        "    # เซฟรูปภาพที่เบลอแล้ว\n",
        "    cv2.imwrite(blurred_image_path, blurred_image)\n",
        "    print(f'Blurred image saved to {blurred_image_path}')"
      ],
      "metadata": {
        "id": "x67AXSnGosu2"
      },
      "execution_count": null,
      "outputs": []
    },
    {
      "cell_type": "markdown",
      "source": [
        "##blurมืด"
      ],
      "metadata": {
        "id": "pKBhXiw94vAH"
      }
    },
    {
      "cell_type": "code",
      "source": [
        "import cv2\n",
        "import os\n",
        "import glob\n",
        "from google.colab.patches import cv2_imshow\n",
        "\n",
        "def blur_image(image, ksize=(15, 15)):\n",
        "    # เบลอภาพด้วย Gaussian Blur\n",
        "    blurred_image = cv2.GaussianBlur(image, ksize, 0)\n",
        "    return blurred_image\n",
        "\n",
        "# เส้นทางของโฟลเดอร์ที่ต้องการเบลอภาพทั้งหมด\n",
        "folder_path = '/content/drive/MyDrive/drug/cropimage/dark'\n",
        "output_folder_path = '/content/drive/MyDrive/drug/cropimage/blurred'\n",
        "\n",
        "# สร้างโฟลเดอร์สำหรับเซฟรูปภาพที่เบลอแล้ว ถ้ายังไม่มี\n",
        "if not os.path.exists(output_folder_path):\n",
        "    os.makedirs(output_folder_path)\n",
        "\n",
        "# ค้นหารูปภาพทั้งหมดในโฟลเดอร์\n",
        "image_paths = glob.glob(os.path.join(folder_path, '*.jpg'))\n",
        "\n",
        "# เบลอภาพและเซฟรูปภาพทั้งหมด\n",
        "for image_path in image_paths:\n",
        "    # อ่านรูปภาพ\n",
        "    image = cv2.imread(image_path)\n",
        "\n",
        "    # เบลอภาพ\n",
        "    blurred_image = blur_image(image)\n",
        "\n",
        "   # ชื่อไฟล์เดิมโดยไม่รวมนามสกุล\n",
        "    base_name, file_ext = os.path.splitext(os.path.basename(image_path))\n",
        "\n",
        "    # เพิ่มคำว่า \"_blurred\" และนามสกุลไฟล์\n",
        "    blurred_image_path = os.path.join(output_folder_path, f'{base_name}_blurred_w{file_ext}')\n",
        "\n",
        "    # เซฟรูปภาพที่เบลอแล้ว\n",
        "    cv2.imwrite(blurred_image_path, blurred_image)\n",
        "    print(f'Blurred image saved to {blurred_image_path}')"
      ],
      "metadata": {
        "id": "jyKlW4Ov4-Ox"
      },
      "execution_count": null,
      "outputs": []
    }
  ],
  "metadata": {
    "colab": {
      "provenance": [],
      "authorship_tag": "ABX9TyNQ64IKZ5zvc1N6EOzXyDml",
      "include_colab_link": true
    },
    "kernelspec": {
      "display_name": "Python 3",
      "name": "python3"
    },
    "language_info": {
      "name": "python"
    }
  },
  "nbformat": 4,
  "nbformat_minor": 0
}