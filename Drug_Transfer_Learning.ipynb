{
  "nbformat": 4,
  "nbformat_minor": 0,
  "metadata": {
    "colab": {
      "provenance": [],
      "gpuType": "T4",
      "mount_file_id": "1Ty55RVq5ogSYBWkNiB_34GKHkd1EJAb2",
      "authorship_tag": "ABX9TyMUksPBbR3WgnlPa1GR2UaV",
      "include_colab_link": true
    },
    "kernelspec": {
      "name": "python3",
      "display_name": "Python 3"
    },
    "language_info": {
      "name": "python"
    },
    "accelerator": "GPU"
  },
  "cells": [
    {
      "cell_type": "markdown",
      "metadata": {
        "id": "view-in-github",
        "colab_type": "text"
      },
      "source": [
        "<a href=\"https://colab.research.google.com/github/nannthd/project_AIEngineer/blob/main/Drug_Transfer_Learning.ipynb\" target=\"_parent\"><img src=\"https://colab.research.google.com/assets/colab-badge.svg\" alt=\"Open In Colab\"/></a>"
      ]
    },
    {
      "cell_type": "code",
      "execution_count": null,
      "metadata": {
        "id": "95j43pqRGOGm"
      },
      "outputs": [],
      "source": [
        "!pip install ultralytics\n",
        "from ultralytics import YOLO"
      ]
    },
    {
      "cell_type": "code",
      "source": [
        "from google.colab import drive\n",
        "drive.mount('/content/drive')"
      ],
      "metadata": {
        "id": "P6uVWe-e4cG6",
        "outputId": "470cafe5-e2f0-41db-b303-62fdc152d559",
        "colab": {
          "base_uri": "https://localhost:8080/"
        }
      },
      "execution_count": 2,
      "outputs": [
        {
          "output_type": "stream",
          "name": "stdout",
          "text": [
            "Mounted at /content/drive\n"
          ]
        }
      ]
    },
    {
      "cell_type": "markdown",
      "source": [
        "# Data"
      ],
      "metadata": {
        "id": "NCl7cIxE_fAT"
      }
    },
    {
      "cell_type": "code",
      "source": [
        "!pip install roboflow\n",
        "\n",
        "from roboflow import Roboflow\n",
        "rf = Roboflow(api_key=\"FpJxukTY5ewqBW8qVPzH\")\n",
        "project = rf.workspace(\"ka05\").project(\"50_class-4\")\n",
        "version = project.version(2)\n",
        "dataset = version.download(\"yolov8\")"
      ],
      "metadata": {
        "id": "CWUFOCYe_Q1V"
      },
      "execution_count": null,
      "outputs": []
    },
    {
      "cell_type": "code",
      "source": [
        "%cat {dataset.location}/data.yaml"
      ],
      "metadata": {
        "id": "b3puAjRI_XuQ"
      },
      "execution_count": null,
      "outputs": []
    },
    {
      "cell_type": "code",
      "source": [
        "!sed -i '$d' {dataset.location}/data.yaml\n",
        "!sed -i '$d' {dataset.location}/data.yaml\n",
        "!sed -i '$d' {dataset.location}/data.yaml\n",
        "!sed -i '$d' {dataset.location}/data.yaml\n",
        "!echo -e \"test: ../test/images\\ntrain: ../train/images\\nval: ../valid/images\" >> {dataset.location}/data.yaml"
      ],
      "metadata": {
        "id": "Ouh8_kHb_YOM"
      },
      "execution_count": 5,
      "outputs": []
    },
    {
      "cell_type": "code",
      "source": [
        "%cat {dataset.location}/data.yaml"
      ],
      "metadata": {
        "id": "tAYEqeTo_Ygr"
      },
      "execution_count": null,
      "outputs": []
    },
    {
      "cell_type": "markdown",
      "source": [
        "# Load model"
      ],
      "metadata": {
        "id": "8AmD1v6Q_mWq"
      }
    },
    {
      "cell_type": "code",
      "source": [
        "# Load a model\n",
        "model = YOLO(\"/content/drive/MyDrive/drug/model.pt\")\n",
        "model.names"
      ],
      "metadata": {
        "id": "rwqZvl2vzV8_",
        "collapsed": true
      },
      "execution_count": null,
      "outputs": []
    },
    {
      "cell_type": "code",
      "source": [
        "# add data\n",
        "# Import libraries\n",
        "import torch\n",
        "from ultralytics import YOLO\n",
        "from PIL import Image, ImageDraw\n",
        "import matplotlib.pyplot as plt\n",
        "\n",
        "# Load the YOLOv8 model\n",
        "model = YOLO(\"/content/drive/MyDrive/drug/model.pt\")\n",
        "\n",
        "# Load image\n",
        "img_path = '/content/bakamol-10pill.jpg'\n",
        "image = Image.open(img_path)\n",
        "\n",
        "# Perform prediction\n",
        "results = model.predict(image)\n",
        "\n",
        "# Draw bounding boxes on the image\n",
        "draw = ImageDraw.Draw(image)\n",
        "for result in results:\n",
        "    for box in result.boxes:\n",
        "        x1, y1, x2, y2 = box.xyxy[0].tolist()\n",
        "        label = result.names[int(box.cls)]\n",
        "        confidence = float(box.conf)  # Convert tensor to float\n",
        "        if confidence >= 0.5:\n",
        "            draw.rectangle(((x1, y1), (x2, y2)), outline=\"red\", width=3)\n",
        "            draw.text((x1, y1), f\"{label} {confidence:.2f}\", fill=\"red\")\n",
        "        else:\n",
        "            draw.rectangle(((x1, y1), (x2, y2)), outline=\"blue\", width=3)  # Draw with blue outline for low confidence\n",
        "            draw.text((x1, y1), f\"Unknown Class {confidence:.2f}\", fill=\"blue\")\n",
        "\n",
        "# Display the image\n",
        "plt.imshow(image)\n",
        "plt.axis('off')\n",
        "plt.show()\n",
        "\n",
        "# Print out the results\n",
        "for result in results:\n",
        "    for box in result.boxes:\n",
        "        if float(box.conf) >= 0.5:\n",
        "            print(f\"Class: {result.names[int(box.cls)]}, Confidence: {float(box.conf):.2f}, Bbox: {box.xyxy[0].tolist()}\")\n",
        "        else:\n",
        "            print(f\"Unknown Class, Confidence: {float(box.conf):.2f}, Bbox: {box.xyxy[0].tolist()}\")"
      ],
      "metadata": {
        "id": "AHCha6nHFkJ8"
      },
      "execution_count": null,
      "outputs": []
    }
  ]
}