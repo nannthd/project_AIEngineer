{
  "nbformat": 4,
  "nbformat_minor": 0,
  "metadata": {
    "colab": {
      "provenance": [],
      "authorship_tag": "ABX9TyMV4PS85OKyC74Q3FECA6v1",
      "include_colab_link": true
    },
    "kernelspec": {
      "name": "python3",
      "display_name": "Python 3"
    },
    "language_info": {
      "name": "python"
    }
  },
  "cells": [
    {
      "cell_type": "markdown",
      "metadata": {
        "id": "view-in-github",
        "colab_type": "text"
      },
      "source": [
        "<a href=\"https://colab.research.google.com/github/nannthd/project_AIEngineer/blob/main/vector_drug_ViTModel.ipynb\" target=\"_parent\"><img src=\"https://colab.research.google.com/assets/colab-badge.svg\" alt=\"Open In Colab\"/></a>"
      ]
    },
    {
      "cell_type": "code",
      "source": [
        "from google.colab import drive\n",
        "drive.mount('/content/drive')"
      ],
      "metadata": {
        "colab": {
          "base_uri": "https://localhost:8080/"
        },
        "id": "4lNn98BBrZ4b",
        "outputId": "fda6b89c-39f9-4fd1-99e0-abeaa23e9f03"
      },
      "execution_count": 1,
      "outputs": [
        {
          "output_type": "stream",
          "name": "stdout",
          "text": [
            "Mounted at /content/drive\n"
          ]
        }
      ]
    },
    {
      "cell_type": "code",
      "source": [
        "!unzip '/content/drive/MyDrive/drug/data 50 class add_augment.zip'"
      ],
      "metadata": {
        "id": "0fyoL2Zerg43"
      },
      "execution_count": null,
      "outputs": []
    },
    {
      "cell_type": "markdown",
      "source": [
        "#image2vector"
      ],
      "metadata": {
        "id": "KeCy_JTL1VAU"
      }
    },
    {
      "cell_type": "markdown",
      "source": [
        "##224*224"
      ],
      "metadata": {
        "id": "uP3i_Zcr1XFm"
      }
    },
    {
      "cell_type": "markdown",
      "source": [
        "###50cls"
      ],
      "metadata": {
        "id": "lS0wPwVK1acR"
      }
    },
    {
      "cell_type": "code",
      "source": [
        "# use VIT model to convert data\n",
        "import pandas as pd\n",
        "import numpy as np\n",
        "import os\n",
        "from transformers import ViTImageProcessor, ViTModel\n",
        "from PIL import Image\n",
        "import torch\n",
        "\n",
        "# ใช้โมเดล ViT ของ Hugging Face ในการทำ embedding\n",
        "processor = ViTImageProcessor.from_pretrained('google/vit-base-patch16-224-in21k')\n",
        "model = ViTModel.from_pretrained('google/vit-base-patch16-224-in21k')\n",
        "\n",
        "def image_embedding(path):\n",
        "    img = Image.open(path).convert('RGB').resize((224, 224))  # ปรับขนาดภาพให้เข้ากับ ViT\n",
        "    inputs = processor(images=img, return_tensors=\"pt\")\n",
        "    outputs = model(**inputs)\n",
        "    last_hidden_states = outputs.last_hidden_state\n",
        "    avg_embedding = last_hidden_states.mean(dim=1).squeeze().detach().numpy()  # ค่าเฉลี่ยของ hidden states\n",
        "\n",
        "    curr_df = pd.DataFrame(avg_embedding).T\n",
        "    return curr_df\n",
        "\n",
        "def process_images_in_folder(folder_path, output_csv_path):\n",
        "    pdEmbedded = pd.DataFrame()\n",
        "    image_files = [f for f in os.listdir(folder_path) if f.endswith(('.png', '.jpg', '.jpeg'))]\n",
        "\n",
        "    for idx, image_file in enumerate(image_files):\n",
        "        image_path = os.path.join(folder_path, image_file)\n",
        "        embedded = image_embedding(image_path)\n",
        "        embedded['ID'] = image_file  # ใช้ชื่อไฟล์เป็น ID\n",
        "        pdEmbedded = pd.concat([pdEmbedded, embedded], ignore_index=True)\n",
        "\n",
        "    # สร้างโฟลเดอร์สำหรับ output_csv_path\n",
        "    output_folder = os.path.dirname(output_csv_path)\n",
        "    os.makedirs(output_folder, exist_ok=True)\n",
        "\n",
        "    # บันทึก DataFrame ลงในไฟล์ CSV\n",
        "    pdEmbedded.to_csv(output_csv_path, index=False)\n",
        "\n",
        "# ฟังก์ชันสำหรับการวนลูปโฟลเดอร์\n",
        "def process_all_folders(base_folder_path, output_base_folder):\n",
        "    subfolders = [f.path for f in os.scandir(base_folder_path) if f.is_dir()]\n",
        "\n",
        "    for subfolder in subfolders:\n",
        "        subfolder_name = os.path.basename(subfolder)\n",
        "        output_csv_path = os.path.join(output_base_folder, f\"{subfolder_name}.csv\")\n",
        "        process_images_in_folder(subfolder, output_csv_path)\n",
        "        print(f\"Embedding data for {subfolder_name} has been saved to {output_csv_path}\")\n",
        "\n",
        "# ตัวอย่างการใช้งาน\n",
        "base_folder_path = \"/content/data 50 class add_augment - Copy\"\n",
        "output_base_folder = \"/content/drug50cls_ViTModel\"\n",
        "os.makedirs(output_base_folder, exist_ok=True)  # สร้างโฟลเดอร์หลักถ้ายังไม่มี\n",
        "\n",
        "process_all_folders(base_folder_path, output_base_folder)"
      ],
      "metadata": {
        "id": "86ecusk8ABM7"
      },
      "execution_count": null,
      "outputs": []
    },
    {
      "cell_type": "markdown",
      "source": [
        "###Cosine similarity"
      ],
      "metadata": {
        "id": "SAile6ON1xLH"
      }
    },
    {
      "cell_type": "code",
      "source": [
        "import pandas as pd\n",
        "import numpy as np\n",
        "import os\n",
        "from sklearn.metrics.pairwise import cosine_similarity\n",
        "from transformers import ViTImageProcessor, ViTModel\n",
        "from PIL import Image\n",
        "import torch\n",
        "\n",
        "# ใช้โมเดล ViT ของ Hugging Face ในการทำ embedding\n",
        "processor = ViTImageProcessor.from_pretrained('google/vit-base-patch16-224-in21k')\n",
        "model = ViTModel.from_pretrained('google/vit-base-patch16-224-in21k')\n",
        "\n",
        "# ย้ายโมเดลไปยัง GPU ถ้ามี\n",
        "device = torch.device(\"cuda\" if torch.cuda.is_available() else \"cpu\")\n",
        "model.to(device)\n",
        "\n",
        "def image_embedding(path):\n",
        "    try:\n",
        "        img = Image.open(path).convert('RGB').resize((224, 224))  # ปรับขนาดภาพให้เข้ากับ ViT\n",
        "        inputs = processor(images=img, return_tensors=\"pt\").to(device)\n",
        "        with torch.no_grad():\n",
        "            outputs = model(**inputs)\n",
        "        last_hidden_states = outputs.last_hidden_state\n",
        "        avg_embedding = last_hidden_states.mean(dim=1).squeeze().cpu().detach().numpy()  # ค่าเฉลี่ยของ hidden states\n",
        "        curr_df = pd.DataFrame(avg_embedding).T\n",
        "        return curr_df\n",
        "    except Exception as e:\n",
        "        print(f\"Error processing image {path}: {e}\")\n",
        "        return pd.DataFrame()\n",
        "\n",
        "def load_embeddings_from_csv(csv_folder):\n",
        "    all_embeddings = {}\n",
        "    for csv_file in os.listdir(csv_folder):\n",
        "        if csv_file.endswith('.csv'):\n",
        "            class_name = os.path.splitext(csv_file)[0]  # ใช้ชื่อไฟล์ CSV เป็นชื่อคลาส\n",
        "            csv_path = os.path.join(csv_folder, csv_file)\n",
        "            df = pd.read_csv(csv_path)\n",
        "            # ดรอปคอลัมน์ ID และเก็บเฉพาะเวกเตอร์ของคลาส\n",
        "            embeddings_no_id = df.drop(['ID'], axis=1)\n",
        "            all_embeddings[class_name] = embeddings_no_id\n",
        "    return all_embeddings\n",
        "\n",
        "def find_most_similar_classes(new_image_path, all_embeddings):\n",
        "    new_embedding = image_embedding(new_image_path)\n",
        "    similarity_scores = {}\n",
        "\n",
        "    for class_name, embeddings_df in all_embeddings.items():\n",
        "        # คำนวณค่า similarity ระหว่าง embedding ของรูปภาพใหม่กับ embeddings ของคลาส\n",
        "        similarity_score = cosine_similarity(new_embedding, embeddings_df)\n",
        "        max_similarity_score = similarity_score.max()  # หา similarity ที่สูงที่สุดในคลาส\n",
        "        similarity_scores[class_name] = max_similarity_score\n",
        "\n",
        "    sorted_similarity = sorted(similarity_scores.items(), key=lambda x: x[1], reverse=True)\n",
        "    top_5_similar_classes = sorted_similarity[:5]\n",
        "\n",
        "    return top_5_similar_classes\n",
        "\n",
        "# โหลด embedding จากโฟลเดอร์ที่เก็บไฟล์ CSV\n",
        "csv_folder_path = '/content/drug50cls_ViTModel'\n",
        "all_embeddings = load_embeddings_from_csv(csv_folder_path)\n",
        "\n",
        "# รูปภาพที่ต้องการทดสอบ\n",
        "new_image_path = '/content/2.jpg'\n",
        "\n",
        "# ค้นหาคลาสที่มีความคล้ายกันที่สุด 5 อันดับ\n",
        "similar_classes = find_most_similar_classes(new_image_path, all_embeddings)\n",
        "\n",
        "# แสดงผลลัพธ์\n",
        "print(\"Top 5 most similar classes:\")\n",
        "for rank, (class_name, similarity_score) in enumerate(similar_classes, start=1):\n",
        "    print(f\"{rank}. Class: {class_name}, Similarity Score: {similarity_score}\")"
      ],
      "metadata": {
        "colab": {
          "base_uri": "https://localhost:8080/"
        },
        "id": "q8hmRcpcS0tb",
        "outputId": "75d80c78-2800-47bf-e210-631335e570d5"
      },
      "execution_count": 23,
      "outputs": [
        {
          "output_type": "stream",
          "name": "stdout",
          "text": [
            "Top 5 most similar classes:\n",
            "1. Class: Amlopine5mg, Similarity Score: 0.804720407185873\n",
            "2. Class: Amlopine10mg, Similarity Score: 0.6334852880845288\n",
            "3. Class: Blopress16mg, Similarity Score: 0.6282731733279555\n",
            "4. Class: Betalol40mg, Similarity Score: 0.6118358029107045\n",
            "5. Class: Prenolol100mg, Similarity Score: 0.5980021013161094\n"
          ]
        }
      ]
    },
    {
      "cell_type": "markdown",
      "source": [
        "##640*640"
      ],
      "metadata": {
        "id": "2fOdPxcZTXg7"
      }
    },
    {
      "cell_type": "markdown",
      "source": [
        "###50cls"
      ],
      "metadata": {
        "id": "zo_ieQNmTXg7"
      }
    },
    {
      "cell_type": "code",
      "source": [
        "# use VIT model to convert data\n",
        "import pandas as pd\n",
        "import numpy as np\n",
        "import os\n",
        "from transformers import ViTImageProcessor, ViTModel\n",
        "from PIL import Image\n",
        "import torch\n",
        "\n",
        "# ใช้โมเดล ViT ของ Hugging Face ในการทำ embedding\n",
        "processor = ViTImageProcessor.from_pretrained('google/vit-base-patch16-224-in21k')\n",
        "model = ViTModel.from_pretrained('google/vit-base-patch16-224-in21k')\n",
        "\n",
        "def image_embedding(path):\n",
        "    img = Image.open(path).convert('RGB').resize((640, 640))  # ปรับขนาดภาพให้เข้ากับ ViT\n",
        "    inputs = processor(images=img, return_tensors=\"pt\")\n",
        "    outputs = model(**inputs)\n",
        "    last_hidden_states = outputs.last_hidden_state\n",
        "    avg_embedding = last_hidden_states.mean(dim=1).squeeze().detach().numpy()  # ค่าเฉลี่ยของ hidden states\n",
        "\n",
        "    curr_df = pd.DataFrame(avg_embedding).T\n",
        "    return curr_df\n",
        "\n",
        "def process_images_in_folder(folder_path, output_csv_path):\n",
        "    pdEmbedded = pd.DataFrame()\n",
        "    image_files = [f for f in os.listdir(folder_path) if f.endswith(('.png', '.jpg', '.jpeg'))]\n",
        "\n",
        "    for idx, image_file in enumerate(image_files):\n",
        "        image_path = os.path.join(folder_path, image_file)\n",
        "        embedded = image_embedding(image_path)\n",
        "        embedded['ID'] = image_file  # ใช้ชื่อไฟล์เป็น ID\n",
        "        pdEmbedded = pd.concat([pdEmbedded, embedded], ignore_index=True)\n",
        "\n",
        "    # สร้างโฟลเดอร์สำหรับ output_csv_path\n",
        "    output_folder = os.path.dirname(output_csv_path)\n",
        "    os.makedirs(output_folder, exist_ok=True)\n",
        "\n",
        "    # บันทึก DataFrame ลงในไฟล์ CSV\n",
        "    pdEmbedded.to_csv(output_csv_path, index=False)\n",
        "\n",
        "# ฟังก์ชันสำหรับการวนลูปโฟลเดอร์\n",
        "def process_all_folders(base_folder_path, output_base_folder):\n",
        "    subfolders = [f.path for f in os.scandir(base_folder_path) if f.is_dir()]\n",
        "\n",
        "    for subfolder in subfolders:\n",
        "        subfolder_name = os.path.basename(subfolder)\n",
        "        output_csv_path = os.path.join(output_base_folder, f\"{subfolder_name}.csv\")\n",
        "        process_images_in_folder(subfolder, output_csv_path)\n",
        "        print(f\"Embedding data for {subfolder_name} has been saved to {output_csv_path}\")\n",
        "\n",
        "# ตัวอย่างการใช้งาน\n",
        "base_folder_path = \"/content/data 50 class add_augment - Copy\"\n",
        "output_base_folder = \"/content/drug50cls_ViTModel_640\"\n",
        "os.makedirs(output_base_folder, exist_ok=True)  # สร้างโฟลเดอร์หลักถ้ายังไม่มี\n",
        "\n",
        "process_all_folders(base_folder_path, output_base_folder)"
      ],
      "metadata": {
        "id": "_M3phEwETXg7"
      },
      "execution_count": null,
      "outputs": []
    },
    {
      "cell_type": "markdown",
      "source": [
        "###Cosine similarity"
      ],
      "metadata": {
        "id": "S1zeKEhPbcQ-"
      }
    },
    {
      "cell_type": "code",
      "source": [
        "import pandas as pd\n",
        "import numpy as np\n",
        "import os\n",
        "from sklearn.metrics.pairwise import cosine_similarity\n",
        "from transformers import ViTImageProcessor, ViTModel\n",
        "from PIL import Image\n",
        "import torch\n",
        "\n",
        "# ใช้โมเดล ViT ของ Hugging Face ในการทำ embedding\n",
        "processor = ViTImageProcessor.from_pretrained('google/vit-base-patch16-224-in21k')\n",
        "model = ViTModel.from_pretrained('google/vit-base-patch16-224-in21k')\n",
        "\n",
        "# ย้ายโมเดลไปยัง GPU ถ้ามี\n",
        "device = torch.device(\"cuda\" if torch.cuda.is_available() else \"cpu\")\n",
        "model.to(device)\n",
        "\n",
        "def image_embedding(path):\n",
        "    try:\n",
        "        img = Image.open(path).convert('RGB').resize((224, 224))  # ปรับขนาดภาพให้เข้ากับ ViT\n",
        "        inputs = processor(images=img, return_tensors=\"pt\").to(device)\n",
        "        with torch.no_grad():\n",
        "            outputs = model(**inputs)\n",
        "        last_hidden_states = outputs.last_hidden_state\n",
        "        avg_embedding = last_hidden_states.mean(dim=1).squeeze().cpu().detach().numpy()  # ค่าเฉลี่ยของ hidden states\n",
        "        curr_df = pd.DataFrame(avg_embedding).T\n",
        "        return curr_df\n",
        "    except Exception as e:\n",
        "        print(f\"Error processing image {path}: {e}\")\n",
        "        return pd.DataFrame()\n",
        "\n",
        "def load_embeddings_from_csv(csv_folder):\n",
        "    all_embeddings = {}\n",
        "    for csv_file in os.listdir(csv_folder):\n",
        "        if csv_file.endswith('.csv'):\n",
        "            class_name = os.path.splitext(csv_file)[0]  # ใช้ชื่อไฟล์ CSV เป็นชื่อคลาส\n",
        "            csv_path = os.path.join(csv_folder, csv_file)\n",
        "            df = pd.read_csv(csv_path)\n",
        "            # ดรอปคอลัมน์ ID และเก็บเฉพาะเวกเตอร์ของคลาส\n",
        "            embeddings_no_id = df.drop(['ID'], axis=1)\n",
        "            all_embeddings[class_name] = embeddings_no_id\n",
        "    return all_embeddings\n",
        "\n",
        "def find_most_similar_classes(new_image_path, all_embeddings):\n",
        "    new_embedding = image_embedding(new_image_path)\n",
        "    similarity_scores = {}\n",
        "\n",
        "    for class_name, embeddings_df in all_embeddings.items():\n",
        "        # คำนวณค่า similarity ระหว่าง embedding ของรูปภาพใหม่กับ embeddings ของคลาส\n",
        "        similarity_score = cosine_similarity(new_embedding, embeddings_df)\n",
        "        max_similarity_score = similarity_score.max()  # หา similarity ที่สูงที่สุดในคลาส\n",
        "        similarity_scores[class_name] = max_similarity_score\n",
        "\n",
        "    sorted_similarity = sorted(similarity_scores.items(), key=lambda x: x[1], reverse=True)\n",
        "    top_5_similar_classes = sorted_similarity[:5]\n",
        "\n",
        "    return top_5_similar_classes\n",
        "\n",
        "# โหลด embedding จากโฟลเดอร์ที่เก็บไฟล์ CSV\n",
        "csv_folder_path = '/content/drug50cls_ViTModel_640'\n",
        "all_embeddings = load_embeddings_from_csv(csv_folder_path)\n",
        "\n",
        "# รูปภาพที่ต้องการทดสอบ\n",
        "new_image_path = '/content/2.jpg'\n",
        "\n",
        "# ค้นหาคลาสที่มีความคล้ายกันที่สุด 5 อันดับ\n",
        "similar_classes = find_most_similar_classes(new_image_path, all_embeddings)\n",
        "\n",
        "# แสดงผลลัพธ์\n",
        "print(\"Top 5 most similar classes:\")\n",
        "for rank, (class_name, similarity_score) in enumerate(similar_classes, start=1):\n",
        "    print(f\"{rank}. Class: {class_name}, Similarity Score: {similarity_score}\")"
      ],
      "metadata": {
        "colab": {
          "base_uri": "https://localhost:8080/"
        },
        "outputId": "a918a07c-55ec-4877-9a30-470c1873e0dc",
        "id": "-WwYyp7xbcQ_"
      },
      "execution_count": 22,
      "outputs": [
        {
          "output_type": "stream",
          "name": "stdout",
          "text": [
            "Top 5 most similar classes:\n",
            "1. Class: Amlopine5mg, Similarity Score: 0.7900898666089824\n",
            "2. Class: Amlopine10mg, Similarity Score: 0.6421481579057162\n",
            "3. Class: Blopress16mg, Similarity Score: 0.6149773946927559\n",
            "4. Class: Betalol40mg, Similarity Score: 0.6146524421261307\n",
            "5. Class: Prenolol100mg, Similarity Score: 0.606150863561248\n"
          ]
        }
      ]
    },
    {
      "cell_type": "markdown",
      "source": [
        "# โหลดข้อมูลเวกเตอร์"
      ],
      "metadata": {
        "id": "FS6sfHRA1rDH"
      }
    },
    {
      "cell_type": "code",
      "source": [
        "# โหลดข้อมูลเวกเตอร์224*224\n",
        "# Export Data drug50cls\n",
        "# Define the folder you want to zip and download\n",
        "import shutil\n",
        "\n",
        "folder_to_download = '/content/drug50cls_ViTModel'\n",
        "\n",
        "# Zip the folder\n",
        "shutil.make_archive('/content/drive/MyDrive/drug/drug50cls_ViTModel', 'zip', folder_to_download)\n",
        "\n",
        "# Download the zip file\n",
        "from google.colab import files\n",
        "files.download('/content/drive/MyDrive/drug/drug50cls_ViTModel.zip')"
      ],
      "metadata": {
        "id": "FTPDuxYT0kCT"
      },
      "execution_count": null,
      "outputs": []
    },
    {
      "cell_type": "code",
      "source": [
        "# โหลดข้อมูลเวกเตอร์640*640\n",
        "# Export Data drug50cls\n",
        "# Define the folder you want to zip and download\n",
        "import shutil\n",
        "\n",
        "folder_to_download = '/content/drug50cls_ViTModel_640'\n",
        "\n",
        "# Zip the folder\n",
        "shutil.make_archive('/content/drive/MyDrive/drug/drug50cls_ViTModel_640', 'zip', folder_to_download)\n",
        "\n",
        "# Download the zip file\n",
        "from google.colab import files\n",
        "files.download('/content/drive/MyDrive/drug/drug50cls_ViTModel_640.zip')"
      ],
      "metadata": {
        "id": "CBYDhQqLbIc0"
      },
      "execution_count": null,
      "outputs": []
    }
  ]
}