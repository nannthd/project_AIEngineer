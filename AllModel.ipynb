{
  "nbformat": 4,
  "nbformat_minor": 0,
  "metadata": {
    "colab": {
      "provenance": [],
      "authorship_tag": "ABX9TyPxLsH4gGLJQHJXGLoe+HQh",
      "include_colab_link": true
    },
    "kernelspec": {
      "name": "python3",
      "display_name": "Python 3"
    },
    "language_info": {
      "name": "python"
    }
  },
  "cells": [
    {
      "cell_type": "markdown",
      "metadata": {
        "id": "view-in-github",
        "colab_type": "text"
      },
      "source": [
        "<a href=\"https://colab.research.google.com/github/nannthd/project_AIEngineer/blob/main/AllModel.ipynb\" target=\"_parent\"><img src=\"https://colab.research.google.com/assets/colab-badge.svg\" alt=\"Open In Colab\"/></a>"
      ]
    },
    {
      "cell_type": "code",
      "source": [
        "from google.colab import drive\n",
        "drive.mount('/content/drive')"
      ],
      "metadata": {
        "colab": {
          "base_uri": "https://localhost:8080/"
        },
        "id": "_LccyV5ifY15",
        "outputId": "5a5a77ec-ebf6-423c-f510-4865c0861c72"
      },
      "execution_count": 1,
      "outputs": [
        {
          "output_type": "stream",
          "name": "stdout",
          "text": [
            "Mounted at /content/drive\n"
          ]
        }
      ]
    },
    {
      "cell_type": "markdown",
      "source": [
        "#Resnet50"
      ],
      "metadata": {
        "id": "KihQv12Rf6ff"
      }
    },
    {
      "cell_type": "markdown",
      "source": [
        "##original"
      ],
      "metadata": {
        "id": "c5s_H8Y5gJPw"
      }
    },
    {
      "cell_type": "markdown",
      "source": [
        "###224"
      ],
      "metadata": {
        "id": "iCpfoV25gA1I"
      }
    },
    {
      "cell_type": "code",
      "source": [
        "import zipfile\n",
        "import os\n",
        "\n",
        "def unzip_file(zip_path, extract_to_folder):\n",
        "    # ตรวจสอบว่ามีโฟลเดอร์ปลายทางหรือไม่ ถ้าไม่มีก็สร้างใหม่\n",
        "    if not os.path.exists(extract_to_folder):\n",
        "        os.makedirs(extract_to_folder)\n",
        "\n",
        "    # เปิดไฟล์ ZIP และแตกไฟล์\n",
        "    with zipfile.ZipFile(zip_path, 'r') as zip_ref:\n",
        "        zip_ref.extractall(extract_to_folder)\n",
        "        print(f'ไฟล์ถูกแตกที่ {extract_to_folder}')\n",
        "\n",
        "# ตัวอย่างการใช้งาน\n",
        "zip_path = '/content/drive/MyDrive/drug/drug50cls.zip'  # ใส่เส้นทางไฟล์ ZIP ของคุณที่นี่\n",
        "extract_to_folder = '/content/drug50cls'  # ใส่เส้นทางโฟลเดอร์ที่ต้องการแตกไฟล์ที่นี่\n",
        "unzip_file(zip_path, extract_to_folder)"
      ],
      "metadata": {
        "colab": {
          "base_uri": "https://localhost:8080/"
        },
        "id": "Ik4mxC9ihEwy",
        "outputId": "be943133-9d4e-4f7c-d1bf-c779adbdf236"
      },
      "execution_count": 2,
      "outputs": [
        {
          "output_type": "stream",
          "name": "stdout",
          "text": [
            "ไฟล์ถูกแตกที่ /content/drug50cls\n"
          ]
        }
      ]
    },
    {
      "cell_type": "code",
      "source": [
        "!pip install tensorflow"
      ],
      "metadata": {
        "id": "lVWE6fX_h73C"
      },
      "execution_count": null,
      "outputs": []
    },
    {
      "cell_type": "code",
      "source": [
        "import pandas as pd\n",
        "import numpy as np\n",
        "import os\n",
        "from sklearn.metrics.pairwise import cosine_similarity\n",
        "from tensorflow.keras.applications.resnet50 import ResNet50, preprocess_input\n",
        "from tensorflow.keras.preprocessing import image\n",
        "from PIL import Image\n",
        "import matplotlib.pyplot as plt\n",
        "\n",
        "# ใช้โมเดล ResNet50 ของ TensorFlow ในการทำ embedding\n",
        "model = ResNet50(include_top=False, weights='imagenet', pooling='avg')\n",
        "\n",
        "def image_embedding(path):\n",
        "    img = Image.open(path)\n",
        "    img = img.resize((224, 224))  # ปรับขนาดภาพให้เข้ากับ ResNet50\n",
        "    x = image.img_to_array(img)\n",
        "    x = np.expand_dims(x, axis=0)\n",
        "    x = preprocess_input(x)\n",
        "    preds = model.predict(x)\n",
        "    curr_df = pd.DataFrame(preds[0]).T\n",
        "    return curr_df\n",
        "\n",
        "def load_embeddings_from_csv(csv_folder):\n",
        "    all_embeddings = {}\n",
        "    for csv_file in os.listdir(csv_folder):\n",
        "        if csv_file.endswith('.csv'):\n",
        "            class_name = os.path.splitext(csv_file)[0]  # ใช้ชื่อไฟล์ CSV เป็นชื่อคลาส\n",
        "            csv_path = os.path.join(csv_folder, csv_file)\n",
        "            df = pd.read_csv(csv_path)\n",
        "            embeddings_no_id = df.drop(['ID'], axis=1)\n",
        "            all_embeddings[class_name] = embeddings_no_id\n",
        "    return all_embeddings\n",
        "\n",
        "def find_most_similar_classes(new_image_path, all_embeddings):\n",
        "    new_embedding = image_embedding(new_image_path)\n",
        "    similarity_scores = {}\n",
        "\n",
        "    for class_name, embeddings_df in all_embeddings.items():\n",
        "        similarity_score = cosine_similarity(new_embedding, embeddings_df)\n",
        "        max_similarity_score = similarity_score.max()  # หา similarity ที่สูงที่สุดในคลาส\n",
        "        similarity_scores[class_name] = max_similarity_score\n",
        "\n",
        "    sorted_similarity = sorted(similarity_scores.items(), key=lambda x: x[1], reverse=True)\n",
        "    top_5_similar_classes = sorted_similarity[:5]\n",
        "\n",
        "    return top_5_similar_classes\n",
        "\n",
        "def show_images(image_paths, title):\n",
        "    plt.figure(figsize=(5, 5))\n",
        "    plt.suptitle(title, fontsize=16)\n",
        "    for i, path in enumerate(image_paths):\n",
        "        img = Image.open(path)\n",
        "        plt.subplot(1, len(image_paths), i + 1)\n",
        "        plt.imshow(img)\n",
        "        plt.axis('off')\n",
        "    plt.tight_layout(rect=[0, 0, 1, 0.95])\n",
        "    plt.show()\n",
        "\n",
        "# โหลด embedding จากโฟลเดอร์ที่เก็บไฟล์ CSV\n",
        "csv_folder_path = '/content/drug50cls'\n",
        "all_embeddings = load_embeddings_from_csv(csv_folder_path)\n",
        "\n",
        "# โฟลเดอร์ที่เก็บภาพที่จะทดสอบ\n",
        "test_image_folder = '/content/drive/MyDrive/drug/CorpTest'\n",
        "\n",
        "# ประมวลผลภาพทั้งหมดในโฟลเดอร์\n",
        "for image_file in os.listdir(test_image_folder):\n",
        "    if image_file.endswith(('jpg', 'png')):\n",
        "        image_path = os.path.join(test_image_folder, image_file)\n",
        "\n",
        "        # ค้นหาคลาสที่มีความคล้ายกันที่สุด 5 อันดับ\n",
        "        similar_classes = find_most_similar_classes(image_path, all_embeddings)\n",
        "\n",
        "        # แสดงผลลัพธ์\n",
        "        print(f\"Results for image: {image_file}\")\n",
        "        for rank, (class_name, similarity_score) in enumerate(similar_classes, start=1):\n",
        "            print(f\"{rank}. Class: {class_name}, Similarity Score: {similarity_score}\")\n",
        "\n",
        "        # แสดงภาพทดสอบ\n",
        "        print(\"Showing test image:\")\n",
        "        show_images([image_path], \"Test Image\")\n",
        "\n",
        "        # เพิ่มภาพที่คล้ายคลึงที่สุดในแต่ละคลาสที่พบ\n",
        "        image_paths = []\n",
        "        for class_name, _ in similar_classes:\n",
        "            class_image_folder = os.path.join(csv_folder_path, class_name)\n",
        "            if os.path.isdir(class_image_folder):\n",
        "                image_files = [f for f in os.listdir(class_image_folder) if f.endswith(('jpg', 'png'))]\n",
        "                if image_files:\n",
        "                    top_image_path = os.path.join(class_image_folder, image_files[0])\n",
        "                    image_paths.append(top_image_path)\n",
        "\n",
        "        # แสดงภาพจากคลาสที่คล้ายคลึงที่สุด\n",
        "        if image_paths:\n",
        "            print(\"Showing similar images:\")\n",
        "            show_images(image_paths, \"Similar Images\")\n",
        "\n",
        "        print(\"\\n\" + \"=\"*40 + \"\\n\")"
      ],
      "metadata": {
        "collapsed": true,
        "id": "sg2XxmTVopxQ"
      },
      "execution_count": null,
      "outputs": []
    },
    {
      "cell_type": "markdown",
      "source": [
        "ผิด1"
      ],
      "metadata": {
        "id": "0dJfVzwps1mS"
      }
    },
    {
      "cell_type": "markdown",
      "source": [
        "###640"
      ],
      "metadata": {
        "id": "UJYoQpg1gCR1"
      }
    },
    {
      "cell_type": "code",
      "source": [
        "import zipfile\n",
        "import os\n",
        "\n",
        "def unzip_file(zip_path, extract_to_folder):\n",
        "    # ตรวจสอบว่ามีโฟลเดอร์ปลายทางหรือไม่ ถ้าไม่มีก็สร้างใหม่\n",
        "    if not os.path.exists(extract_to_folder):\n",
        "        os.makedirs(extract_to_folder)\n",
        "\n",
        "    # เปิดไฟล์ ZIP และแตกไฟล์\n",
        "    with zipfile.ZipFile(zip_path, 'r') as zip_ref:\n",
        "        zip_ref.extractall(extract_to_folder)\n",
        "        print(f'ไฟล์ถูกแตกที่ {extract_to_folder}')\n",
        "\n",
        "# ตัวอย่างการใช้งาน\n",
        "zip_path = '/content/drive/MyDrive/drug/drug50cls_640.zip'  # ใส่เส้นทางไฟล์ ZIP ของคุณที่นี่\n",
        "extract_to_folder = '/content/drug50cls_640'  # ใส่เส้นทางโฟลเดอร์ที่ต้องการแตกไฟล์ที่นี่\n",
        "unzip_file(zip_path, extract_to_folder)"
      ],
      "metadata": {
        "colab": {
          "base_uri": "https://localhost:8080/"
        },
        "id": "4tSfYrh4s802",
        "outputId": "ebf90c0c-b05e-40c4-e745-73acf6a1773b"
      },
      "execution_count": 17,
      "outputs": [
        {
          "output_type": "stream",
          "name": "stdout",
          "text": [
            "ไฟล์ถูกแตกที่ /content/drug50cls_640\n"
          ]
        }
      ]
    },
    {
      "cell_type": "code",
      "source": [
        "import pandas as pd\n",
        "import numpy as np\n",
        "import os\n",
        "from sklearn.metrics.pairwise import cosine_similarity\n",
        "from tensorflow.keras.applications.resnet50 import ResNet50, preprocess_input\n",
        "from tensorflow.keras.preprocessing import image\n",
        "from PIL import Image\n",
        "import matplotlib.pyplot as plt\n",
        "\n",
        "# ใช้โมเดล ResNet50 ของ TensorFlow ในการทำ embedding\n",
        "model = ResNet50(include_top=False, weights='imagenet', pooling='avg')\n",
        "\n",
        "def image_embedding(path):\n",
        "    img = Image.open(path)\n",
        "    img = img.resize((640, 640))  # ปรับขนาดภาพให้เข้ากับ ResNet50\n",
        "    x = image.img_to_array(img)\n",
        "    x = np.expand_dims(x, axis=0)\n",
        "    x = preprocess_input(x)\n",
        "    preds = model.predict(x)\n",
        "    curr_df = pd.DataFrame(preds[0]).T\n",
        "    return curr_df\n",
        "\n",
        "def load_embeddings_from_csv(csv_folder):\n",
        "    all_embeddings = {}\n",
        "    for csv_file in os.listdir(csv_folder):\n",
        "        if csv_file.endswith('.csv'):\n",
        "            class_name = os.path.splitext(csv_file)[0]  # ใช้ชื่อไฟล์ CSV เป็นชื่อคลาส\n",
        "            csv_path = os.path.join(csv_folder, csv_file)\n",
        "            df = pd.read_csv(csv_path)\n",
        "            embeddings_no_id = df.drop(['ID'], axis=1)\n",
        "            all_embeddings[class_name] = embeddings_no_id\n",
        "    return all_embeddings\n",
        "\n",
        "def find_most_similar_classes(new_image_path, all_embeddings):\n",
        "    new_embedding = image_embedding(new_image_path)\n",
        "    similarity_scores = {}\n",
        "\n",
        "    for class_name, embeddings_df in all_embeddings.items():\n",
        "        similarity_score = cosine_similarity(new_embedding, embeddings_df)\n",
        "        max_similarity_score = similarity_score.max()  # หา similarity ที่สูงที่สุดในคลาส\n",
        "        similarity_scores[class_name] = max_similarity_score\n",
        "\n",
        "    sorted_similarity = sorted(similarity_scores.items(), key=lambda x: x[1], reverse=True)\n",
        "    top_5_similar_classes = sorted_similarity[:5]\n",
        "\n",
        "    return top_5_similar_classes\n",
        "\n",
        "def show_images(image_paths, title):\n",
        "    plt.figure(figsize=(5, 5))\n",
        "    plt.suptitle(title, fontsize=16)\n",
        "    for i, path in enumerate(image_paths):\n",
        "        img = Image.open(path)\n",
        "        plt.subplot(1, len(image_paths), i + 1)\n",
        "        plt.imshow(img)\n",
        "        plt.axis('off')\n",
        "    plt.tight_layout(rect=[0, 0, 1, 0.95])\n",
        "    plt.show()\n",
        "\n",
        "# โหลด embedding จากโฟลเดอร์ที่เก็บไฟล์ CSV\n",
        "csv_folder_path = '/content/drug50cls_640'\n",
        "all_embeddings = load_embeddings_from_csv(csv_folder_path)\n",
        "\n",
        "# โฟลเดอร์ที่เก็บภาพที่จะทดสอบ\n",
        "test_image_folder = '/content/drive/MyDrive/drug/CorpTest'\n",
        "\n",
        "# ประมวลผลภาพทั้งหมดในโฟลเดอร์\n",
        "for image_file in os.listdir(test_image_folder):\n",
        "    if image_file.endswith(('jpg', 'png')):\n",
        "        image_path = os.path.join(test_image_folder, image_file)\n",
        "\n",
        "        # ค้นหาคลาสที่มีความคล้ายกันที่สุด 5 อันดับ\n",
        "        similar_classes = find_most_similar_classes(image_path, all_embeddings)\n",
        "\n",
        "        # แสดงผลลัพธ์\n",
        "        print(f\"Results for image: {image_file}\")\n",
        "        for rank, (class_name, similarity_score) in enumerate(similar_classes, start=1):\n",
        "            print(f\"{rank}. Class: {class_name}, Similarity Score: {similarity_score}\")\n",
        "\n",
        "        # แสดงภาพทดสอบ\n",
        "        print(\"Showing test image:\")\n",
        "        show_images([image_path], \"Test Image\")\n",
        "\n",
        "        # เพิ่มภาพที่คล้ายคลึงที่สุดในแต่ละคลาสที่พบ\n",
        "        image_paths = []\n",
        "        for class_name, _ in similar_classes:\n",
        "            class_image_folder = os.path.join(csv_folder_path, class_name)\n",
        "            if os.path.isdir(class_image_folder):\n",
        "                image_files = [f for f in os.listdir(class_image_folder) if f.endswith(('jpg', 'png'))]\n",
        "                if image_files:\n",
        "                    top_image_path = os.path.join(class_image_folder, image_files[0])\n",
        "                    image_paths.append(top_image_path)\n",
        "\n",
        "        # แสดงภาพจากคลาสที่คล้ายคลึงที่สุด\n",
        "        if image_paths:\n",
        "            print(\"Showing similar images:\")\n",
        "            show_images(image_paths, \"Similar Images\")\n",
        "\n",
        "        print(\"\\n\" + \"=\"*40 + \"\\n\")"
      ],
      "metadata": {
        "collapsed": true,
        "id": "fLX5VzT9tPON"
      },
      "execution_count": null,
      "outputs": []
    },
    {
      "cell_type": "markdown",
      "source": [
        "ผิด3"
      ],
      "metadata": {
        "id": "siu6HZaZvJA5"
      }
    },
    {
      "cell_type": "markdown",
      "source": [
        "##Fine Tune"
      ],
      "metadata": {
        "id": "S2Mb2rCMgVaf"
      }
    },
    {
      "cell_type": "markdown",
      "source": [
        "###224"
      ],
      "metadata": {
        "id": "A1M2f5tJgYPn"
      }
    },
    {
      "cell_type": "code",
      "source": [
        "import zipfile\n",
        "import os\n",
        "\n",
        "def unzip_file(zip_path, extract_to_folder):\n",
        "    # ตรวจสอบว่ามีโฟลเดอร์ปลายทางหรือไม่ ถ้าไม่มีก็สร้างใหม่\n",
        "    if not os.path.exists(extract_to_folder):\n",
        "        os.makedirs(extract_to_folder)\n",
        "\n",
        "    # เปิดไฟล์ ZIP และแตกไฟล์\n",
        "    with zipfile.ZipFile(zip_path, 'r') as zip_ref:\n",
        "        zip_ref.extractall(extract_to_folder)\n",
        "        print(f'ไฟล์ถูกแตกที่ {extract_to_folder}')\n",
        "\n",
        "# ตัวอย่างการใช้งาน\n",
        "zip_path = '/content/drive/MyDrive/drug/drug50cls_ResNet50_FT_model_v1.zip'  # ใส่เส้นทางไฟล์ ZIP ของคุณที่นี่\n",
        "extract_to_folder = '/content/drug50cls_ResNet50_FT_model_v1'  # ใส่เส้นทางโฟลเดอร์ที่ต้องการแตกไฟล์ที่นี่\n",
        "unzip_file(zip_path, extract_to_folder)"
      ],
      "metadata": {
        "colab": {
          "base_uri": "https://localhost:8080/"
        },
        "id": "MLwn_q_ovQzy",
        "outputId": "43aab154-9132-4e10-a67f-7b3fec12ffdf"
      },
      "execution_count": 19,
      "outputs": [
        {
          "output_type": "stream",
          "name": "stdout",
          "text": [
            "ไฟล์ถูกแตกที่ /content/drug50cls_ResNet50_FT_model_v1\n"
          ]
        }
      ]
    },
    {
      "cell_type": "code",
      "source": [
        "import pandas as pd\n",
        "import numpy as np\n",
        "import os\n",
        "import torch\n",
        "import torch.nn as nn\n",
        "from torchvision import models, transforms\n",
        "from PIL import Image\n",
        "from sklearn.metrics.pairwise import cosine_similarity\n",
        "import matplotlib.pyplot as plt\n",
        "\n",
        "# Set up device\n",
        "device = torch.device(\"cuda\" if torch.cuda.is_available() else \"cpu\")\n",
        "\n",
        "# Define a feature extractor model\n",
        "class FeatureExtractor(nn.Module):\n",
        "    def __init__(self, base_model):\n",
        "        super(FeatureExtractor, self).__init__()\n",
        "        self.base_model = base_model\n",
        "        self.base_model.fc = nn.Identity()  # Remove the final classification layer\n",
        "\n",
        "    def forward(self, x):\n",
        "        return self.base_model(x)\n",
        "\n",
        "# Initialize ResNet-50 model and feature extractor\n",
        "resnet50_model = models.resnet50(pretrained=False)\n",
        "num_classes = 50  # Replace with the actual number of classes from your training\n",
        "resnet50_model.fc = nn.Linear(resnet50_model.fc.in_features, num_classes)  # Replace the final layer with your trained layer\n",
        "model_path = '/content/drive/MyDrive/drug/model_resnet50.pth'\n",
        "resnet50_model.load_state_dict(torch.load(model_path))\n",
        "feature_extractor = FeatureExtractor(resnet50_model).to(device)\n",
        "feature_extractor.eval()  # Set the model to evaluation mode\n",
        "\n",
        "# Define the image transformation\n",
        "transform = transforms.Compose([\n",
        "    transforms.Resize((224, 224)),\n",
        "    transforms.ToTensor(),\n",
        "])\n",
        "\n",
        "def image_embedding(path):\n",
        "    img = Image.open(path).convert('RGB')  # Convert image to RGB\n",
        "    img = transform(img).unsqueeze(0).to(device)  # Apply transformation and add batch dimension\n",
        "\n",
        "    with torch.no_grad():\n",
        "        # Extract features from the penultimate layer\n",
        "        features = feature_extractor(img)\n",
        "        avg_embedding = features.squeeze().cpu().numpy()  # Convert to numpy array and remove batch dimension\n",
        "\n",
        "    curr_df = pd.DataFrame(avg_embedding).T\n",
        "    return curr_df\n",
        "\n",
        "def load_embeddings_from_csv(csv_folder):\n",
        "    all_embeddings = {}\n",
        "    if not os.path.exists(csv_folder):\n",
        "        raise FileNotFoundError(f\"CSV folder {csv_folder} not found.\")\n",
        "\n",
        "    for csv_file in os.listdir(csv_folder):\n",
        "        if csv_file.endswith('.csv'):\n",
        "            class_name = os.path.splitext(csv_file)[0]  # Use CSV file name as class name\n",
        "            csv_path = os.path.join(csv_folder, csv_file)\n",
        "            df = pd.read_csv(csv_path)\n",
        "            if 'ID' in df.columns:\n",
        "                # Drop ID column and keep only class embeddings\n",
        "                embeddings_no_id = df.drop(['ID'], axis=1)\n",
        "                all_embeddings[class_name] = embeddings_no_id\n",
        "            else:\n",
        "                raise ValueError(f\"ID column not found in {csv_file}.\")\n",
        "    return all_embeddings\n",
        "\n",
        "def find_most_similar_classes(new_image_path, all_embeddings):\n",
        "    if not os.path.isdir(new_image_path):\n",
        "        raise FileNotFoundError(f\"Directory {new_image_path} not found.\")\n",
        "\n",
        "    image_files = [os.path.join(new_image_path, f) for f in os.listdir(new_image_path) if f.lower().endswith(('png', 'jpg', 'jpeg'))]\n",
        "    results = {}\n",
        "\n",
        "    for image_path in image_files:\n",
        "        new_embedding = image_embedding(image_path)\n",
        "        similarity_scores = {}\n",
        "\n",
        "        for class_name, embeddings_df in all_embeddings.items():\n",
        "            # Compute similarity between new image embedding and class embeddings\n",
        "            similarity_score = cosine_similarity(new_embedding, embeddings_df)\n",
        "            max_similarity_score = similarity_score.max()  # Get highest similarity score in class\n",
        "            similarity_scores[class_name] = max_similarity_score\n",
        "\n",
        "        sorted_similarity = sorted(similarity_scores.items(), key=lambda x: x[1], reverse=True)\n",
        "        top_5_similar_classes = sorted_similarity[:5]\n",
        "\n",
        "        results[image_path] = top_5_similar_classes\n",
        "\n",
        "    return results\n",
        "\n",
        "def display_image_with_results(image_path, similar_classes):\n",
        "    img = Image.open(image_path)\n",
        "    plt.imshow(img)\n",
        "    plt.axis('off')\n",
        "    plt.title(f\"Top 5 Similar Classes for {os.path.basename(image_path)}\")\n",
        "    plt.show()\n",
        "\n",
        "# Load embeddings from CSV folder\n",
        "csv_folder_path = '/content/drug50cls_ResNet50_FT_model_v1'\n",
        "try:\n",
        "    all_embeddings = load_embeddings_from_csv(csv_folder_path)\n",
        "except (FileNotFoundError, ValueError) as e:\n",
        "    print(e)\n",
        "    all_embeddings = {}\n",
        "\n",
        "# Directory containing images to test\n",
        "new_image_folder_path = '/content/drive/MyDrive/drug/CorpTest'\n",
        "\n",
        "if all_embeddings:\n",
        "    # Find top 5 most similar classes for each image in the folder\n",
        "    try:\n",
        "        similar_classes_results = find_most_similar_classes(new_image_folder_path, all_embeddings)\n",
        "        # Print results and display images\n",
        "        for image_path, similar_classes in similar_classes_results.items():\n",
        "            print(f\"\\nImage: {image_path}\")\n",
        "            print(\"Top 5 most similar classes:\")\n",
        "            for rank, (class_name, similarity_score) in enumerate(similar_classes, start=1):\n",
        "                print(f\"{rank}. Class: {class_name}, Similarity Score: {similarity_score}\")\n",
        "            display_image_with_results(image_path, similar_classes)\n",
        "    except FileNotFoundError as e:\n",
        "        print(e)\n",
        "else:\n",
        "    print(\"No embeddings loaded, cannot perform similarity search.\")"
      ],
      "metadata": {
        "collapsed": true,
        "id": "JKziuNAJLDZh"
      },
      "execution_count": null,
      "outputs": []
    },
    {
      "cell_type": "markdown",
      "source": [
        "ผิด1"
      ],
      "metadata": {
        "id": "WxU_YRkgw31T"
      }
    },
    {
      "cell_type": "markdown",
      "source": [
        "###640"
      ],
      "metadata": {
        "id": "MyQJnkzogZwp"
      }
    },
    {
      "cell_type": "code",
      "source": [
        "import zipfile\n",
        "import os\n",
        "\n",
        "def unzip_file(zip_path, extract_to_folder):\n",
        "    # ตรวจสอบว่ามีโฟลเดอร์ปลายทางหรือไม่ ถ้าไม่มีก็สร้างใหม่\n",
        "    if not os.path.exists(extract_to_folder):\n",
        "        os.makedirs(extract_to_folder)\n",
        "\n",
        "    # เปิดไฟล์ ZIP และแตกไฟล์\n",
        "    with zipfile.ZipFile(zip_path, 'r') as zip_ref:\n",
        "        zip_ref.extractall(extract_to_folder)\n",
        "        print(f'ไฟล์ถูกแตกที่ {extract_to_folder}')\n",
        "\n",
        "# ตัวอย่างการใช้งาน\n",
        "zip_path = '/content/drive/MyDrive/drug/drug50cls_ResNet50_FT_model_v1_640.zip'  # ใส่เส้นทางไฟล์ ZIP ของคุณที่นี่\n",
        "extract_to_folder = '/content/drug50cls_ResNet50_FT_model_v1_640'  # ใส่เส้นทางโฟลเดอร์ที่ต้องการแตกไฟล์ที่นี่\n",
        "unzip_file(zip_path, extract_to_folder)"
      ],
      "metadata": {
        "colab": {
          "base_uri": "https://localhost:8080/"
        },
        "outputId": "246be6ea-0a0b-4c71-ecac-2957dfe6c752",
        "id": "-q2dlmfJw_Y0"
      },
      "execution_count": 21,
      "outputs": [
        {
          "output_type": "stream",
          "name": "stdout",
          "text": [
            "ไฟล์ถูกแตกที่ /content/drug50cls_ResNet50_FT_model_v1_640\n"
          ]
        }
      ]
    },
    {
      "cell_type": "code",
      "source": [
        "import pandas as pd\n",
        "import numpy as np\n",
        "import os\n",
        "import torch\n",
        "import torch.nn as nn\n",
        "from torchvision import models, transforms\n",
        "from PIL import Image\n",
        "from sklearn.metrics.pairwise import cosine_similarity\n",
        "import matplotlib.pyplot as plt\n",
        "\n",
        "# Set up device\n",
        "device = torch.device(\"cuda\" if torch.cuda.is_available() else \"cpu\")\n",
        "\n",
        "# Define a feature extractor model\n",
        "class FeatureExtractor(nn.Module):\n",
        "    def __init__(self, base_model):\n",
        "        super(FeatureExtractor, self).__init__()\n",
        "        self.base_model = base_model\n",
        "        self.base_model.fc = nn.Identity()  # Remove the final classification layer\n",
        "\n",
        "    def forward(self, x):\n",
        "        return self.base_model(x)\n",
        "\n",
        "# Initialize ResNet-50 model and feature extractor\n",
        "resnet50_model = models.resnet50(pretrained=False)\n",
        "num_classes = 50  # Replace with the actual number of classes from your training\n",
        "resnet50_model.fc = nn.Linear(resnet50_model.fc.in_features, num_classes)  # Replace the final layer with your trained layer\n",
        "model_path = '/content/drive/MyDrive/drug/trained_resnet50_epoch_3.pth'\n",
        "resnet50_model.load_state_dict(torch.load(model_path))\n",
        "feature_extractor = FeatureExtractor(resnet50_model).to(device)\n",
        "feature_extractor.eval()  # Set the model to evaluation mode\n",
        "\n",
        "# Define the image transformation\n",
        "transform = transforms.Compose([\n",
        "    transforms.Resize((224, 224)),\n",
        "    transforms.ToTensor(),\n",
        "])\n",
        "\n",
        "def image_embedding(path):\n",
        "    img = Image.open(path).convert('RGB')  # Convert image to RGB\n",
        "    img = transform(img).unsqueeze(0).to(device)  # Apply transformation and add batch dimension\n",
        "\n",
        "    with torch.no_grad():\n",
        "        # Extract features from the penultimate layer\n",
        "        features = feature_extractor(img)\n",
        "        avg_embedding = features.squeeze().cpu().numpy()  # Convert to numpy array and remove batch dimension\n",
        "\n",
        "    curr_df = pd.DataFrame(avg_embedding).T\n",
        "    return curr_df\n",
        "\n",
        "def load_embeddings_from_csv(csv_folder):\n",
        "    all_embeddings = {}\n",
        "    if not os.path.exists(csv_folder):\n",
        "        raise FileNotFoundError(f\"CSV folder {csv_folder} not found.\")\n",
        "\n",
        "    for csv_file in os.listdir(csv_folder):\n",
        "        if csv_file.endswith('.csv'):\n",
        "            class_name = os.path.splitext(csv_file)[0]  # Use CSV file name as class name\n",
        "            csv_path = os.path.join(csv_folder, csv_file)\n",
        "            df = pd.read_csv(csv_path)\n",
        "            if 'ID' in df.columns:\n",
        "                # Drop ID column and keep only class embeddings\n",
        "                embeddings_no_id = df.drop(['ID'], axis=1)\n",
        "                all_embeddings[class_name] = embeddings_no_id\n",
        "            else:\n",
        "                raise ValueError(f\"ID column not found in {csv_file}.\")\n",
        "    return all_embeddings\n",
        "\n",
        "def find_most_similar_classes(new_image_path, all_embeddings):\n",
        "    if not os.path.isdir(new_image_path):\n",
        "        raise FileNotFoundError(f\"Directory {new_image_path} not found.\")\n",
        "\n",
        "    image_files = [os.path.join(new_image_path, f) for f in os.listdir(new_image_path) if f.lower().endswith(('png', 'jpg', 'jpeg'))]\n",
        "    results = {}\n",
        "\n",
        "    for image_path in image_files:\n",
        "        new_embedding = image_embedding(image_path)\n",
        "        similarity_scores = {}\n",
        "\n",
        "        for class_name, embeddings_df in all_embeddings.items():\n",
        "            # Compute similarity between new image embedding and class embeddings\n",
        "            similarity_score = cosine_similarity(new_embedding, embeddings_df)\n",
        "            max_similarity_score = similarity_score.max()  # Get highest similarity score in class\n",
        "            similarity_scores[class_name] = max_similarity_score\n",
        "\n",
        "        sorted_similarity = sorted(similarity_scores.items(), key=lambda x: x[1], reverse=True)\n",
        "        top_5_similar_classes = sorted_similarity[:5]\n",
        "\n",
        "        results[image_path] = top_5_similar_classes\n",
        "\n",
        "    return results\n",
        "\n",
        "def display_image_with_results(image_path, similar_classes):\n",
        "    img = Image.open(image_path)\n",
        "    plt.imshow(img)\n",
        "    plt.axis('off')\n",
        "    plt.title(f\"Top 5 Similar Classes for {os.path.basename(image_path)}\")\n",
        "    plt.show()\n",
        "\n",
        "# Load embeddings from CSV folder\n",
        "csv_folder_path = '/content/drug50cls_ResNet50_FT_model_v1_640'\n",
        "try:\n",
        "    all_embeddings = load_embeddings_from_csv(csv_folder_path)\n",
        "except (FileNotFoundError, ValueError) as e:\n",
        "    print(e)\n",
        "    all_embeddings = {}\n",
        "\n",
        "# Directory containing images to test\n",
        "new_image_folder_path = '/content/drive/MyDrive/drug/CorpTest'\n",
        "\n",
        "if all_embeddings:\n",
        "    # Find top 5 most similar classes for each image in the folder\n",
        "    try:\n",
        "        similar_classes_results = find_most_similar_classes(new_image_folder_path, all_embeddings)\n",
        "        # Print results and display images\n",
        "        for image_path, similar_classes in similar_classes_results.items():\n",
        "            print(f\"\\nImage: {image_path}\")\n",
        "            print(\"Top 5 most similar classes:\")\n",
        "            for rank, (class_name, similarity_score) in enumerate(similar_classes, start=1):\n",
        "                print(f\"{rank}. Class: {class_name}, Similarity Score: {similarity_score}\")\n",
        "            display_image_with_results(image_path, similar_classes)\n",
        "    except FileNotFoundError as e:\n",
        "        print(e)\n",
        "else:\n",
        "    print(\"No embeddings loaded, cannot perform similarity search.\")"
      ],
      "metadata": {
        "id": "0OJIJaxZM1gZ"
      },
      "execution_count": null,
      "outputs": []
    },
    {
      "cell_type": "markdown",
      "source": [
        "ผิด26"
      ],
      "metadata": {
        "id": "3yYnkqbozz_8"
      }
    },
    {
      "cell_type": "markdown",
      "source": [
        "#ViTModel"
      ],
      "metadata": {
        "id": "jpPupTJ1zM_a"
      }
    },
    {
      "cell_type": "markdown",
      "source": [
        "##original"
      ],
      "metadata": {
        "id": "2lXGnennzW-6"
      }
    },
    {
      "cell_type": "markdown",
      "source": [
        "###224"
      ],
      "metadata": {
        "id": "Px1Y8WrxzW-8"
      }
    },
    {
      "cell_type": "code",
      "source": [
        "import zipfile\n",
        "import os\n",
        "\n",
        "def unzip_file(zip_path, extract_to_folder):\n",
        "    # ตรวจสอบว่ามีโฟลเดอร์ปลายทางหรือไม่ ถ้าไม่มีก็สร้างใหม่\n",
        "    if not os.path.exists(extract_to_folder):\n",
        "        os.makedirs(extract_to_folder)\n",
        "\n",
        "    # เปิดไฟล์ ZIP และแตกไฟล์\n",
        "    with zipfile.ZipFile(zip_path, 'r') as zip_ref:\n",
        "        zip_ref.extractall(extract_to_folder)\n",
        "        print(f'ไฟล์ถูกแตกที่ {extract_to_folder}')\n",
        "\n",
        "# ตัวอย่างการใช้งาน\n",
        "zip_path = '/content/drive/MyDrive/drug/drug50cls_ViTModel.zip'  # ใส่เส้นทางไฟล์ ZIP ของคุณที่นี่\n",
        "extract_to_folder = '/content/drug50cls_ViTModel'  # ใส่เส้นทางโฟลเดอร์ที่ต้องการแตกไฟล์ที่นี่\n",
        "unzip_file(zip_path, extract_to_folder)"
      ],
      "metadata": {
        "colab": {
          "base_uri": "https://localhost:8080/"
        },
        "id": "7JA18a6GzlBU",
        "outputId": "8bea926e-015d-47e6-925b-5013c19d23b6"
      },
      "execution_count": 29,
      "outputs": [
        {
          "output_type": "stream",
          "name": "stdout",
          "text": [
            "ไฟล์ถูกแตกที่ /content/drug50cls_ViTModel\n"
          ]
        }
      ]
    },
    {
      "cell_type": "code",
      "source": [
        "import pandas as pd\n",
        "import numpy as np\n",
        "import os\n",
        "from sklearn.metrics.pairwise import cosine_similarity\n",
        "from transformers import ViTImageProcessor, ViTModel\n",
        "from PIL import Image\n",
        "import torch\n",
        "import matplotlib.pyplot as plt\n",
        "\n",
        "# ใช้โมเดล ViT ของ Hugging Face ในการทำ embedding\n",
        "processor = ViTImageProcessor.from_pretrained('google/vit-base-patch16-224-in21k')\n",
        "model = ViTModel.from_pretrained('google/vit-base-patch16-224-in21k')\n",
        "\n",
        "# ย้ายโมเดลไปยัง GPU ถ้ามี\n",
        "device = torch.device(\"cuda\" if torch.cuda.is_available() else \"cpu\")\n",
        "model.to(device)\n",
        "\n",
        "def image_embedding(path):\n",
        "    try:\n",
        "        img = Image.open(path).convert('RGB').resize((224, 224))  # ปรับขนาดภาพให้เข้ากับ ViT\n",
        "        inputs = processor(images=img, return_tensors=\"pt\").to(device)\n",
        "        with torch.no_grad():\n",
        "            outputs = model(**inputs)\n",
        "        last_hidden_states = outputs.last_hidden_state\n",
        "        avg_embedding = last_hidden_states.mean(dim=1).squeeze().cpu().detach().numpy()  # ค่าเฉลี่ยของ hidden states\n",
        "        curr_df = pd.DataFrame(avg_embedding).T\n",
        "        return curr_df\n",
        "    except Exception as e:\n",
        "        print(f\"Error processing image {path}: {e}\")\n",
        "        return pd.DataFrame()\n",
        "\n",
        "def load_embeddings_from_csv(csv_folder):\n",
        "    all_embeddings = {}\n",
        "    for csv_file in os.listdir(csv_folder):\n",
        "        if csv_file.endswith('.csv'):\n",
        "            class_name = os.path.splitext(csv_file)[0]  # ใช้ชื่อไฟล์ CSV เป็นชื่อคลาส\n",
        "            csv_path = os.path.join(csv_folder, csv_file)\n",
        "            df = pd.read_csv(csv_path)\n",
        "            # ดรอปคอลัมน์ ID และเก็บเฉพาะเวกเตอร์ของคลาส\n",
        "            embeddings_no_id = df.drop(['ID'], axis=1)\n",
        "            all_embeddings[class_name] = embeddings_no_id\n",
        "    return all_embeddings\n",
        "\n",
        "def find_most_similar_classes(new_image_path, all_embeddings):\n",
        "    new_embedding = image_embedding(new_image_path)\n",
        "    similarity_scores = {}\n",
        "\n",
        "    for class_name, embeddings_df in all_embeddings.items():\n",
        "        # คำนวณค่า similarity ระหว่าง embedding ของรูปภาพใหม่กับ embeddings ของคลาส\n",
        "        similarity_score = cosine_similarity(new_embedding, embeddings_df)\n",
        "        max_similarity_score = similarity_score.max()  # หา similarity ที่สูงที่สุดในคลาส\n",
        "        similarity_scores[class_name] = max_similarity_score\n",
        "\n",
        "    sorted_similarity = sorted(similarity_scores.items(), key=lambda x: x[1], reverse=True)\n",
        "    top_5_similar_classes = sorted_similarity[:5]\n",
        "\n",
        "    return top_5_similar_classes\n",
        "\n",
        "def process_images_in_folder(image_folder_path, all_embeddings):\n",
        "    results = {}\n",
        "    for image_file in os.listdir(image_folder_path):\n",
        "        image_path = os.path.join(image_folder_path, image_file)\n",
        "        if image_path.lower().endswith(('.png', '.jpg', '.jpeg')):\n",
        "            print(f\"Processing image: {image_file}\")\n",
        "            similar_classes = find_most_similar_classes(image_path, all_embeddings)\n",
        "            results[image_file] = (image_path, similar_classes)\n",
        "    return results\n",
        "\n",
        "def display_images_with_results(results):\n",
        "    for image_file, (image_path, similar_classes) in results.items():\n",
        "        img = Image.open(image_path)\n",
        "        plt.figure(figsize=(10, 5))\n",
        "        plt.subplot(1, 1, 1)\n",
        "        plt.imshow(img)\n",
        "        plt.title(f\"Image: {image_file}\")\n",
        "        plt.axis('off')\n",
        "\n",
        "        print(f\"\\nImage: {image_file}\")\n",
        "        print(\"Top 5 most similar classes:\")\n",
        "        for rank, (class_name, similarity_score) in enumerate(similar_classes, start=1):\n",
        "            print(f\"{rank}. Class: {class_name}, Similarity Score: {similarity_score}\")\n",
        "\n",
        "        plt.show()\n",
        "\n",
        "# โหลด embedding จากโฟลเดอร์ที่เก็บไฟล์ CSV\n",
        "csv_folder_path = '/content/drug50cls_ViTModel'\n",
        "all_embeddings = load_embeddings_from_csv(csv_folder_path)\n",
        "\n",
        "# โฟลเดอร์ที่เก็บรูปภาพที่ต้องการทดสอบ\n",
        "image_folder_path = '/content/drive/MyDrive/drug/CorpTest'\n",
        "\n",
        "# ค้นหาคลาสที่มีความคล้ายกันที่สุดสำหรับแต่ละภาพในโฟลเดอร์\n",
        "results = process_images_in_folder(image_folder_path, all_embeddings)\n",
        "\n",
        "# แสดงภาพพร้อมกับผลลัพธ์\n",
        "display_images_with_results(results)"
      ],
      "metadata": {
        "id": "QR7i3wU02kxk"
      },
      "execution_count": null,
      "outputs": []
    },
    {
      "cell_type": "markdown",
      "source": [
        "###640"
      ],
      "metadata": {
        "id": "QpNs8BmnzYYr"
      }
    },
    {
      "cell_type": "code",
      "source": [
        "import zipfile\n",
        "import os\n",
        "\n",
        "def unzip_file(zip_path, extract_to_folder):\n",
        "    # ตรวจสอบว่ามีโฟลเดอร์ปลายทางหรือไม่ ถ้าไม่มีก็สร้างใหม่\n",
        "    if not os.path.exists(extract_to_folder):\n",
        "        os.makedirs(extract_to_folder)\n",
        "\n",
        "    # เปิดไฟล์ ZIP และแตกไฟล์\n",
        "    with zipfile.ZipFile(zip_path, 'r') as zip_ref:\n",
        "        zip_ref.extractall(extract_to_folder)\n",
        "        print(f'ไฟล์ถูกแตกที่ {extract_to_folder}')\n",
        "\n",
        "# ตัวอย่างการใช้งาน\n",
        "zip_path = '/content/drive/MyDrive/drug/drug50cls_ViTModel_640.zip'  # ใส่เส้นทางไฟล์ ZIP ของคุณที่นี่\n",
        "extract_to_folder = '/content/drug50cls_ViTModel_640'  # ใส่เส้นทางโฟลเดอร์ที่ต้องการแตกไฟล์ที่นี่\n",
        "unzip_file(zip_path, extract_to_folder)"
      ],
      "metadata": {
        "colab": {
          "base_uri": "https://localhost:8080/"
        },
        "outputId": "0c159734-d0f3-484d-b794-c5201fe46325",
        "id": "DPjbq-ur6Qb7"
      },
      "execution_count": 31,
      "outputs": [
        {
          "output_type": "stream",
          "name": "stdout",
          "text": [
            "ไฟล์ถูกแตกที่ /content/drug50cls_ViTModel_640\n"
          ]
        }
      ]
    },
    {
      "cell_type": "code",
      "source": [
        "import pandas as pd\n",
        "import numpy as np\n",
        "import os\n",
        "from sklearn.metrics.pairwise import cosine_similarity\n",
        "from transformers import ViTImageProcessor, ViTModel\n",
        "from PIL import Image\n",
        "import torch\n",
        "import matplotlib.pyplot as plt\n",
        "\n",
        "# ใช้โมเดล ViT ของ Hugging Face ในการทำ embedding\n",
        "processor = ViTImageProcessor.from_pretrained('google/vit-base-patch16-224-in21k')\n",
        "model = ViTModel.from_pretrained('google/vit-base-patch16-224-in21k')\n",
        "\n",
        "# ย้ายโมเดลไปยัง GPU ถ้ามี\n",
        "device = torch.device(\"cuda\" if torch.cuda.is_available() else \"cpu\")\n",
        "model.to(device)\n",
        "\n",
        "def image_embedding(path):\n",
        "    try:\n",
        "        img = Image.open(path).convert('RGB').resize((640, 640))  # ปรับขนาดภาพให้เข้ากับ ViT\n",
        "        inputs = processor(images=img, return_tensors=\"pt\").to(device)\n",
        "        with torch.no_grad():\n",
        "            outputs = model(**inputs)\n",
        "        last_hidden_states = outputs.last_hidden_state\n",
        "        avg_embedding = last_hidden_states.mean(dim=1).squeeze().cpu().detach().numpy()  # ค่าเฉลี่ยของ hidden states\n",
        "        curr_df = pd.DataFrame(avg_embedding).T\n",
        "        return curr_df\n",
        "    except Exception as e:\n",
        "        print(f\"Error processing image {path}: {e}\")\n",
        "        return pd.DataFrame()\n",
        "\n",
        "def load_embeddings_from_csv(csv_folder):\n",
        "    all_embeddings = {}\n",
        "    for csv_file in os.listdir(csv_folder):\n",
        "        if csv_file.endswith('.csv'):\n",
        "            class_name = os.path.splitext(csv_file)[0]  # ใช้ชื่อไฟล์ CSV เป็นชื่อคลาส\n",
        "            csv_path = os.path.join(csv_folder, csv_file)\n",
        "            df = pd.read_csv(csv_path)\n",
        "            # ดรอปคอลัมน์ ID และเก็บเฉพาะเวกเตอร์ของคลาส\n",
        "            embeddings_no_id = df.drop(['ID'], axis=1)\n",
        "            all_embeddings[class_name] = embeddings_no_id\n",
        "    return all_embeddings\n",
        "\n",
        "def find_most_similar_classes(new_image_path, all_embeddings):\n",
        "    new_embedding = image_embedding(new_image_path)\n",
        "    similarity_scores = {}\n",
        "\n",
        "    for class_name, embeddings_df in all_embeddings.items():\n",
        "        # คำนวณค่า similarity ระหว่าง embedding ของรูปภาพใหม่กับ embeddings ของคลาส\n",
        "        similarity_score = cosine_similarity(new_embedding, embeddings_df)\n",
        "        max_similarity_score = similarity_score.max()  # หา similarity ที่สูงที่สุดในคลาส\n",
        "        similarity_scores[class_name] = max_similarity_score\n",
        "\n",
        "    sorted_similarity = sorted(similarity_scores.items(), key=lambda x: x[1], reverse=True)\n",
        "    top_5_similar_classes = sorted_similarity[:5]\n",
        "\n",
        "    return top_5_similar_classes\n",
        "\n",
        "def process_images_in_folder(image_folder_path, all_embeddings):\n",
        "    results = {}\n",
        "    for image_file in os.listdir(image_folder_path):\n",
        "        image_path = os.path.join(image_folder_path, image_file)\n",
        "        if image_path.lower().endswith(('.png', '.jpg', '.jpeg')):\n",
        "            print(f\"Processing image: {image_file}\")\n",
        "            similar_classes = find_most_similar_classes(image_path, all_embeddings)\n",
        "            results[image_file] = (image_path, similar_classes)\n",
        "    return results\n",
        "\n",
        "def display_images_with_results(results):\n",
        "    for image_file, (image_path, similar_classes) in results.items():\n",
        "        img = Image.open(image_path)\n",
        "        plt.figure(figsize=(10, 5))\n",
        "        plt.subplot(1, 1, 1)\n",
        "        plt.imshow(img)\n",
        "        plt.title(f\"Image: {image_file}\")\n",
        "        plt.axis('off')\n",
        "\n",
        "        print(f\"\\nImage: {image_file}\")\n",
        "        print(\"Top 5 most similar classes:\")\n",
        "        for rank, (class_name, similarity_score) in enumerate(similar_classes, start=1):\n",
        "            print(f\"{rank}. Class: {class_name}, Similarity Score: {similarity_score}\")\n",
        "\n",
        "        plt.show()\n",
        "\n",
        "# โหลด embedding จากโฟลเดอร์ที่เก็บไฟล์ CSV\n",
        "csv_folder_path = '/content/drug50cls_ViTModel_640'\n",
        "all_embeddings = load_embeddings_from_csv(csv_folder_path)\n",
        "\n",
        "# โฟลเดอร์ที่เก็บรูปภาพที่ต้องการทดสอบ\n",
        "image_folder_path = '/content/drive/MyDrive/drug/CorpTest'\n",
        "\n",
        "# ค้นหาคลาสที่มีความคล้ายกันที่สุดสำหรับแต่ละภาพในโฟลเดอร์\n",
        "results = process_images_in_folder(image_folder_path, all_embeddings)\n",
        "\n",
        "# แสดงภาพพร้อมกับผลลัพธ์\n",
        "display_images_with_results(results)"
      ],
      "metadata": {
        "id": "W365-GbS6Qb8"
      },
      "execution_count": null,
      "outputs": []
    },
    {
      "cell_type": "markdown",
      "source": [
        "##Fine Tune"
      ],
      "metadata": {
        "id": "wCJxs5NvzdMo"
      }
    },
    {
      "cell_type": "markdown",
      "source": [
        "###224"
      ],
      "metadata": {
        "id": "3xmvbHT7zdMo"
      }
    },
    {
      "cell_type": "code",
      "source": [
        "import zipfile\n",
        "import os\n",
        "\n",
        "def unzip_file(zip_path, extract_to_folder):\n",
        "    # ตรวจสอบว่ามีโฟลเดอร์ปลายทางหรือไม่ ถ้าไม่มีก็สร้างใหม่\n",
        "    if not os.path.exists(extract_to_folder):\n",
        "        os.makedirs(extract_to_folder)\n",
        "\n",
        "    # เปิดไฟล์ ZIP และแตกไฟล์\n",
        "    with zipfile.ZipFile(zip_path, 'r') as zip_ref:\n",
        "        zip_ref.extractall(extract_to_folder)\n",
        "        print(f'ไฟล์ถูกแตกที่ {extract_to_folder}')\n",
        "\n",
        "# ตัวอย่างการใช้งาน\n",
        "zip_path = '/content/drive/MyDrive/drug/drug50cls_ViT-FT-model-v1.zip'  # ใส่เส้นทางไฟล์ ZIP ของคุณที่นี่\n",
        "extract_to_folder = '/content/drug50cls_ViT-FT-model-v1'  # ใส่เส้นทางโฟลเดอร์ที่ต้องการแตกไฟล์ที่นี่\n",
        "unzip_file(zip_path, extract_to_folder)"
      ],
      "metadata": {
        "colab": {
          "base_uri": "https://localhost:8080/"
        },
        "id": "qXngywBO8l79",
        "outputId": "ff3f6c09-da92-46c4-b3dc-cd58644c1290"
      },
      "execution_count": 33,
      "outputs": [
        {
          "output_type": "stream",
          "name": "stdout",
          "text": [
            "ไฟล์ถูกแตกที่ /content/drug50cls_ViT-FT-model-v1\n"
          ]
        }
      ]
    },
    {
      "cell_type": "code",
      "source": [
        "import zipfile\n",
        "import os\n",
        "\n",
        "def unzip_file(zip_path, extract_to_folder):\n",
        "    # ตรวจสอบว่ามีโฟลเดอร์ปลายทางหรือไม่ ถ้าไม่มีก็สร้างใหม่\n",
        "    if not os.path.exists(extract_to_folder):\n",
        "        os.makedirs(extract_to_folder)\n",
        "\n",
        "    # เปิดไฟล์ ZIP และแตกไฟล์\n",
        "    with zipfile.ZipFile(zip_path, 'r') as zip_ref:\n",
        "        zip_ref.extractall(extract_to_folder)\n",
        "        print(f'ไฟล์ถูกแตกที่ {extract_to_folder}')\n",
        "\n",
        "# ตัวอย่างการใช้งาน\n",
        "zip_path = '/content/drive/MyDrive/drug/drug50cls_ViT-FT-model-v1.zip'  # ใส่เส้นทางไฟล์ ZIP ของคุณที่นี่\n",
        "extract_to_folder = '/content/drug50cls_ViT-FT-model-v1'  # ใส่เส้นทางโฟลเดอร์ที่ต้องการแตกไฟล์ที่นี่\n",
        "unzip_file(zip_path, extract_to_folder)"
      ],
      "metadata": {
        "id": "KCyWpx3t9jwo"
      },
      "execution_count": null,
      "outputs": []
    },
    {
      "cell_type": "markdown",
      "source": [
        "###640"
      ],
      "metadata": {
        "id": "4Ffu7EJZzejS"
      }
    }
  ]
}